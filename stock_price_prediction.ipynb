{
 "cells": [
  {
   "cell_type": "markdown",
   "metadata": {},
   "source": [
    "## Time Series EDA"
   ]
  },
  {
   "cell_type": "markdown",
   "metadata": {},
   "source": [
    "Goal:\n",
    "1. Collect the stock data of Netflix\n",
    "2. Preprocess data, train and test\n",
    "3. Create an stacked LSTM model\n",
    "4. Predict the test data and plot the output\n",
    "5. Predict the future 30 days and plot"
   ]
  },
  {
   "cell_type": "code",
   "execution_count": 1,
   "metadata": {},
   "outputs": [],
   "source": [
    "import pandas as pd\n",
    "import numpy as np\n",
    "from datetime import datetime\n",
    "import matplotlib.pyplot as plt"
   ]
  },
  {
   "cell_type": "code",
   "execution_count": 2,
   "metadata": {},
   "outputs": [],
   "source": [
    "import pandas_datareader as pdr\n",
    "key='94faa34b39f1200bcdd18f454dea029c3b90d495'\n"
   ]
  },
  {
   "cell_type": "code",
   "execution_count": 3,
   "metadata": {},
   "outputs": [
    {
     "name": "stderr",
     "output_type": "stream",
     "text": [
      "C:\\Users\\zmao\\AppData\\Local\\Programs\\Python\\Python310\\lib\\site-packages\\pandas_datareader\\tiingo.py:234: FutureWarning: In a future version of pandas all arguments of concat except for the argument 'objs' will be keyword-only.\n",
      "  return pd.concat(dfs, self._concat_axis)\n"
     ]
    }
   ],
   "source": [
    "df = pdr.get_data_tiingo('NFLX', api_key=key)\n",
    "df.to_csv('NFLX.csv')"
   ]
  },
  {
   "cell_type": "code",
   "execution_count": 4,
   "metadata": {},
   "outputs": [
    {
     "data": {
      "text/html": [
       "<div>\n",
       "<style scoped>\n",
       "    .dataframe tbody tr th:only-of-type {\n",
       "        vertical-align: middle;\n",
       "    }\n",
       "\n",
       "    .dataframe tbody tr th {\n",
       "        vertical-align: top;\n",
       "    }\n",
       "\n",
       "    .dataframe thead th {\n",
       "        text-align: right;\n",
       "    }\n",
       "</style>\n",
       "<table border=\"1\" class=\"dataframe\">\n",
       "  <thead>\n",
       "    <tr style=\"text-align: right;\">\n",
       "      <th></th>\n",
       "      <th>symbol</th>\n",
       "      <th>date</th>\n",
       "      <th>close</th>\n",
       "      <th>high</th>\n",
       "      <th>low</th>\n",
       "      <th>open</th>\n",
       "      <th>volume</th>\n",
       "      <th>adjClose</th>\n",
       "      <th>adjHigh</th>\n",
       "      <th>adjLow</th>\n",
       "      <th>adjOpen</th>\n",
       "      <th>adjVolume</th>\n",
       "      <th>divCash</th>\n",
       "      <th>splitFactor</th>\n",
       "    </tr>\n",
       "  </thead>\n",
       "  <tbody>\n",
       "    <tr>\n",
       "      <th>0</th>\n",
       "      <td>NFLX</td>\n",
       "      <td>2017-05-05 00:00:00+00:00</td>\n",
       "      <td>156.60</td>\n",
       "      <td>158.5900</td>\n",
       "      <td>155.90</td>\n",
       "      <td>158.55</td>\n",
       "      <td>5316045</td>\n",
       "      <td>156.60</td>\n",
       "      <td>158.5900</td>\n",
       "      <td>155.90</td>\n",
       "      <td>158.55</td>\n",
       "      <td>5316045</td>\n",
       "      <td>0.0</td>\n",
       "      <td>1.0</td>\n",
       "    </tr>\n",
       "    <tr>\n",
       "      <th>1</th>\n",
       "      <td>NFLX</td>\n",
       "      <td>2017-05-08 00:00:00+00:00</td>\n",
       "      <td>156.38</td>\n",
       "      <td>157.6400</td>\n",
       "      <td>155.30</td>\n",
       "      <td>156.55</td>\n",
       "      <td>4780919</td>\n",
       "      <td>156.38</td>\n",
       "      <td>157.6400</td>\n",
       "      <td>155.30</td>\n",
       "      <td>156.55</td>\n",
       "      <td>4780919</td>\n",
       "      <td>0.0</td>\n",
       "      <td>1.0</td>\n",
       "    </tr>\n",
       "    <tr>\n",
       "      <th>2</th>\n",
       "      <td>NFLX</td>\n",
       "      <td>2017-05-09 00:00:00+00:00</td>\n",
       "      <td>157.46</td>\n",
       "      <td>157.8500</td>\n",
       "      <td>155.97</td>\n",
       "      <td>156.10</td>\n",
       "      <td>3886416</td>\n",
       "      <td>157.46</td>\n",
       "      <td>157.8500</td>\n",
       "      <td>155.97</td>\n",
       "      <td>156.10</td>\n",
       "      <td>3886416</td>\n",
       "      <td>0.0</td>\n",
       "      <td>1.0</td>\n",
       "    </tr>\n",
       "    <tr>\n",
       "      <th>3</th>\n",
       "      <td>NFLX</td>\n",
       "      <td>2017-05-10 00:00:00+00:00</td>\n",
       "      <td>160.28</td>\n",
       "      <td>161.1000</td>\n",
       "      <td>156.56</td>\n",
       "      <td>157.82</td>\n",
       "      <td>6834094</td>\n",
       "      <td>160.28</td>\n",
       "      <td>161.1000</td>\n",
       "      <td>156.56</td>\n",
       "      <td>157.82</td>\n",
       "      <td>6834094</td>\n",
       "      <td>0.0</td>\n",
       "      <td>1.0</td>\n",
       "    </tr>\n",
       "    <tr>\n",
       "      <th>4</th>\n",
       "      <td>NFLX</td>\n",
       "      <td>2017-05-11 00:00:00+00:00</td>\n",
       "      <td>158.54</td>\n",
       "      <td>160.5200</td>\n",
       "      <td>157.55</td>\n",
       "      <td>160.33</td>\n",
       "      <td>5534257</td>\n",
       "      <td>158.54</td>\n",
       "      <td>160.5200</td>\n",
       "      <td>157.55</td>\n",
       "      <td>160.33</td>\n",
       "      <td>5534257</td>\n",
       "      <td>0.0</td>\n",
       "      <td>1.0</td>\n",
       "    </tr>\n",
       "    <tr>\n",
       "      <th>...</th>\n",
       "      <td>...</td>\n",
       "      <td>...</td>\n",
       "      <td>...</td>\n",
       "      <td>...</td>\n",
       "      <td>...</td>\n",
       "      <td>...</td>\n",
       "      <td>...</td>\n",
       "      <td>...</td>\n",
       "      <td>...</td>\n",
       "      <td>...</td>\n",
       "      <td>...</td>\n",
       "      <td>...</td>\n",
       "      <td>...</td>\n",
       "      <td>...</td>\n",
       "    </tr>\n",
       "    <tr>\n",
       "      <th>1254</th>\n",
       "      <td>NFLX</td>\n",
       "      <td>2022-04-28 00:00:00+00:00</td>\n",
       "      <td>199.52</td>\n",
       "      <td>201.4800</td>\n",
       "      <td>185.60</td>\n",
       "      <td>191.56</td>\n",
       "      <td>21363162</td>\n",
       "      <td>199.52</td>\n",
       "      <td>201.4800</td>\n",
       "      <td>185.60</td>\n",
       "      <td>191.56</td>\n",
       "      <td>21363162</td>\n",
       "      <td>0.0</td>\n",
       "      <td>1.0</td>\n",
       "    </tr>\n",
       "    <tr>\n",
       "      <th>1255</th>\n",
       "      <td>NFLX</td>\n",
       "      <td>2022-04-29 00:00:00+00:00</td>\n",
       "      <td>190.36</td>\n",
       "      <td>204.7100</td>\n",
       "      <td>190.00</td>\n",
       "      <td>198.68</td>\n",
       "      <td>16391889</td>\n",
       "      <td>190.36</td>\n",
       "      <td>204.7100</td>\n",
       "      <td>190.00</td>\n",
       "      <td>198.68</td>\n",
       "      <td>16391889</td>\n",
       "      <td>0.0</td>\n",
       "      <td>1.0</td>\n",
       "    </tr>\n",
       "    <tr>\n",
       "      <th>1256</th>\n",
       "      <td>NFLX</td>\n",
       "      <td>2022-05-02 00:00:00+00:00</td>\n",
       "      <td>199.46</td>\n",
       "      <td>200.2141</td>\n",
       "      <td>190.01</td>\n",
       "      <td>191.71</td>\n",
       "      <td>14591602</td>\n",
       "      <td>199.46</td>\n",
       "      <td>200.2141</td>\n",
       "      <td>190.01</td>\n",
       "      <td>191.71</td>\n",
       "      <td>14591602</td>\n",
       "      <td>0.0</td>\n",
       "      <td>1.0</td>\n",
       "    </tr>\n",
       "    <tr>\n",
       "      <th>1257</th>\n",
       "      <td>NFLX</td>\n",
       "      <td>2022-05-03 00:00:00+00:00</td>\n",
       "      <td>199.87</td>\n",
       "      <td>203.2000</td>\n",
       "      <td>194.77</td>\n",
       "      <td>198.29</td>\n",
       "      <td>11839431</td>\n",
       "      <td>199.87</td>\n",
       "      <td>203.2000</td>\n",
       "      <td>194.77</td>\n",
       "      <td>198.29</td>\n",
       "      <td>11839431</td>\n",
       "      <td>0.0</td>\n",
       "      <td>1.0</td>\n",
       "    </tr>\n",
       "    <tr>\n",
       "      <th>1258</th>\n",
       "      <td>NFLX</td>\n",
       "      <td>2022-05-04 00:00:00+00:00</td>\n",
       "      <td>204.01</td>\n",
       "      <td>204.3800</td>\n",
       "      <td>191.01</td>\n",
       "      <td>197.65</td>\n",
       "      <td>12108505</td>\n",
       "      <td>204.01</td>\n",
       "      <td>204.3800</td>\n",
       "      <td>191.01</td>\n",
       "      <td>197.65</td>\n",
       "      <td>12108505</td>\n",
       "      <td>0.0</td>\n",
       "      <td>1.0</td>\n",
       "    </tr>\n",
       "  </tbody>\n",
       "</table>\n",
       "<p>1259 rows × 14 columns</p>\n",
       "</div>"
      ],
      "text/plain": [
       "     symbol                       date   close      high     low    open  \\\n",
       "0      NFLX  2017-05-05 00:00:00+00:00  156.60  158.5900  155.90  158.55   \n",
       "1      NFLX  2017-05-08 00:00:00+00:00  156.38  157.6400  155.30  156.55   \n",
       "2      NFLX  2017-05-09 00:00:00+00:00  157.46  157.8500  155.97  156.10   \n",
       "3      NFLX  2017-05-10 00:00:00+00:00  160.28  161.1000  156.56  157.82   \n",
       "4      NFLX  2017-05-11 00:00:00+00:00  158.54  160.5200  157.55  160.33   \n",
       "...     ...                        ...     ...       ...     ...     ...   \n",
       "1254   NFLX  2022-04-28 00:00:00+00:00  199.52  201.4800  185.60  191.56   \n",
       "1255   NFLX  2022-04-29 00:00:00+00:00  190.36  204.7100  190.00  198.68   \n",
       "1256   NFLX  2022-05-02 00:00:00+00:00  199.46  200.2141  190.01  191.71   \n",
       "1257   NFLX  2022-05-03 00:00:00+00:00  199.87  203.2000  194.77  198.29   \n",
       "1258   NFLX  2022-05-04 00:00:00+00:00  204.01  204.3800  191.01  197.65   \n",
       "\n",
       "        volume  adjClose   adjHigh  adjLow  adjOpen  adjVolume  divCash  \\\n",
       "0      5316045    156.60  158.5900  155.90   158.55    5316045      0.0   \n",
       "1      4780919    156.38  157.6400  155.30   156.55    4780919      0.0   \n",
       "2      3886416    157.46  157.8500  155.97   156.10    3886416      0.0   \n",
       "3      6834094    160.28  161.1000  156.56   157.82    6834094      0.0   \n",
       "4      5534257    158.54  160.5200  157.55   160.33    5534257      0.0   \n",
       "...        ...       ...       ...     ...      ...        ...      ...   \n",
       "1254  21363162    199.52  201.4800  185.60   191.56   21363162      0.0   \n",
       "1255  16391889    190.36  204.7100  190.00   198.68   16391889      0.0   \n",
       "1256  14591602    199.46  200.2141  190.01   191.71   14591602      0.0   \n",
       "1257  11839431    199.87  203.2000  194.77   198.29   11839431      0.0   \n",
       "1258  12108505    204.01  204.3800  191.01   197.65   12108505      0.0   \n",
       "\n",
       "      splitFactor  \n",
       "0             1.0  \n",
       "1             1.0  \n",
       "2             1.0  \n",
       "3             1.0  \n",
       "4             1.0  \n",
       "...           ...  \n",
       "1254          1.0  \n",
       "1255          1.0  \n",
       "1256          1.0  \n",
       "1257          1.0  \n",
       "1258          1.0  \n",
       "\n",
       "[1259 rows x 14 columns]"
      ]
     },
     "execution_count": 4,
     "metadata": {},
     "output_type": "execute_result"
    }
   ],
   "source": [
    "df = pd.read_csv('NFLX.csv')\n",
    "df"
   ]
  },
  {
   "cell_type": "code",
   "execution_count": 5,
   "metadata": {},
   "outputs": [],
   "source": [
    "def date_index(df):\n",
    "    df['date'] = pd.to_datetime(df['date'])\n",
    "    df.set_index('date', inplace = True)\n",
    "    return df\n"
   ]
  },
  {
   "cell_type": "code",
   "execution_count": 6,
   "metadata": {},
   "outputs": [],
   "source": [
    "stock = date_index(df)"
   ]
  },
  {
   "cell_type": "code",
   "execution_count": 7,
   "metadata": {},
   "outputs": [
    {
     "name": "stdout",
     "output_type": "stream",
     "text": [
      "<class 'pandas.core.frame.DataFrame'>\n",
      "DatetimeIndex: 1259 entries, 2017-05-05 00:00:00+00:00 to 2022-05-04 00:00:00+00:00\n",
      "Data columns (total 13 columns):\n",
      " #   Column       Non-Null Count  Dtype  \n",
      "---  ------       --------------  -----  \n",
      " 0   symbol       1259 non-null   object \n",
      " 1   close        1259 non-null   float64\n",
      " 2   high         1259 non-null   float64\n",
      " 3   low          1259 non-null   float64\n",
      " 4   open         1259 non-null   float64\n",
      " 5   volume       1259 non-null   int64  \n",
      " 6   adjClose     1259 non-null   float64\n",
      " 7   adjHigh      1259 non-null   float64\n",
      " 8   adjLow       1259 non-null   float64\n",
      " 9   adjOpen      1259 non-null   float64\n",
      " 10  adjVolume    1259 non-null   int64  \n",
      " 11  divCash      1259 non-null   float64\n",
      " 12  splitFactor  1259 non-null   float64\n",
      "dtypes: float64(10), int64(2), object(1)\n",
      "memory usage: 137.7+ KB\n"
     ]
    }
   ],
   "source": [
    "stock.info()"
   ]
  },
  {
   "cell_type": "code",
   "execution_count": 8,
   "metadata": {},
   "outputs": [
    {
     "data": {
      "text/plain": [
       "symbol         0\n",
       "close          0\n",
       "high           0\n",
       "low            0\n",
       "open           0\n",
       "volume         0\n",
       "adjClose       0\n",
       "adjHigh        0\n",
       "adjLow         0\n",
       "adjOpen        0\n",
       "adjVolume      0\n",
       "divCash        0\n",
       "splitFactor    0\n",
       "dtype: int64"
      ]
     },
     "execution_count": 8,
     "metadata": {},
     "output_type": "execute_result"
    }
   ],
   "source": [
    "stock.isna().sum()"
   ]
  },
  {
   "cell_type": "code",
   "execution_count": 9,
   "metadata": {},
   "outputs": [
    {
     "data": {
      "text/plain": [
       "<AxesSubplot:xlabel='date'>"
      ]
     },
     "execution_count": 9,
     "metadata": {},
     "output_type": "execute_result"
    },
    {
     "data": {
      "image/png": "[encoded data removed]",
      "text/plain": [
       "<Figure size 864x288 with 1 Axes>"
      ]
     },
     "metadata": {
      "needs_background": "light"
     },
     "output_type": "display_data"
    }
   ],
   "source": [
    "stock['high'].plot(figsize = (12,4))"
   ]
  },
  {
   "cell_type": "markdown",
   "metadata": {},
   "source": [
    "### Time Resampling"
   ]
  },
  {
   "cell_type": "code",
   "execution_count": 10,
   "metadata": {},
   "outputs": [
    {
     "data": {
      "text/html": [
       "<div>\n",
       "<style scoped>\n",
       "    .dataframe tbody tr th:only-of-type {\n",
       "        vertical-align: middle;\n",
       "    }\n",
       "\n",
       "    .dataframe tbody tr th {\n",
       "        vertical-align: top;\n",
       "    }\n",
       "\n",
       "    .dataframe thead th {\n",
       "        text-align: right;\n",
       "    }\n",
       "</style>\n",
       "<table border=\"1\" class=\"dataframe\">\n",
       "  <thead>\n",
       "    <tr style=\"text-align: right;\">\n",
       "      <th></th>\n",
       "      <th>symbol</th>\n",
       "      <th>close</th>\n",
       "      <th>high</th>\n",
       "      <th>low</th>\n",
       "      <th>open</th>\n",
       "      <th>volume</th>\n",
       "      <th>adjClose</th>\n",
       "      <th>adjHigh</th>\n",
       "      <th>adjLow</th>\n",
       "      <th>adjOpen</th>\n",
       "      <th>adjVolume</th>\n",
       "      <th>divCash</th>\n",
       "      <th>splitFactor</th>\n",
       "    </tr>\n",
       "    <tr>\n",
       "      <th>date</th>\n",
       "      <th></th>\n",
       "      <th></th>\n",
       "      <th></th>\n",
       "      <th></th>\n",
       "      <th></th>\n",
       "      <th></th>\n",
       "      <th></th>\n",
       "      <th></th>\n",
       "      <th></th>\n",
       "      <th></th>\n",
       "      <th></th>\n",
       "      <th></th>\n",
       "      <th></th>\n",
       "    </tr>\n",
       "  </thead>\n",
       "  <tbody>\n",
       "    <tr>\n",
       "      <th>2017-12-31 00:00:00+00:00</th>\n",
       "      <td>NFLX</td>\n",
       "      <td>146.17</td>\n",
       "      <td>147.27</td>\n",
       "      <td>144.25</td>\n",
       "      <td>146.130</td>\n",
       "      <td>2160300</td>\n",
       "      <td>146.17</td>\n",
       "      <td>147.27</td>\n",
       "      <td>144.25</td>\n",
       "      <td>146.130</td>\n",
       "      <td>2160300</td>\n",
       "      <td>0.0</td>\n",
       "      <td>1.0</td>\n",
       "    </tr>\n",
       "    <tr>\n",
       "      <th>2018-12-31 00:00:00+00:00</th>\n",
       "      <td>NFLX</td>\n",
       "      <td>201.07</td>\n",
       "      <td>201.65</td>\n",
       "      <td>195.42</td>\n",
       "      <td>196.100</td>\n",
       "      <td>3577717</td>\n",
       "      <td>201.07</td>\n",
       "      <td>201.65</td>\n",
       "      <td>195.42</td>\n",
       "      <td>196.100</td>\n",
       "      <td>3577717</td>\n",
       "      <td>0.0</td>\n",
       "      <td>1.0</td>\n",
       "    </tr>\n",
       "    <tr>\n",
       "      <th>2019-12-31 00:00:00+00:00</th>\n",
       "      <td>NFLX</td>\n",
       "      <td>254.59</td>\n",
       "      <td>265.00</td>\n",
       "      <td>252.28</td>\n",
       "      <td>255.710</td>\n",
       "      <td>2019322</td>\n",
       "      <td>254.59</td>\n",
       "      <td>265.00</td>\n",
       "      <td>252.28</td>\n",
       "      <td>255.710</td>\n",
       "      <td>2019322</td>\n",
       "      <td>0.0</td>\n",
       "      <td>1.0</td>\n",
       "    </tr>\n",
       "    <tr>\n",
       "      <th>2020-12-31 00:00:00+00:00</th>\n",
       "      <td>NFLX</td>\n",
       "      <td>298.84</td>\n",
       "      <td>322.90</td>\n",
       "      <td>290.25</td>\n",
       "      <td>302.395</td>\n",
       "      <td>1143952</td>\n",
       "      <td>298.84</td>\n",
       "      <td>322.90</td>\n",
       "      <td>290.25</td>\n",
       "      <td>302.395</td>\n",
       "      <td>1143952</td>\n",
       "      <td>0.0</td>\n",
       "      <td>1.0</td>\n",
       "    </tr>\n",
       "    <tr>\n",
       "      <th>2021-12-31 00:00:00+00:00</th>\n",
       "      <td>NFLX</td>\n",
       "      <td>484.98</td>\n",
       "      <td>488.57</td>\n",
       "      <td>478.54</td>\n",
       "      <td>479.750</td>\n",
       "      <td>1287513</td>\n",
       "      <td>484.98</td>\n",
       "      <td>488.57</td>\n",
       "      <td>478.54</td>\n",
       "      <td>479.750</td>\n",
       "      <td>1287513</td>\n",
       "      <td>0.0</td>\n",
       "      <td>1.0</td>\n",
       "    </tr>\n",
       "    <tr>\n",
       "      <th>2022-12-31 00:00:00+00:00</th>\n",
       "      <td>NFLX</td>\n",
       "      <td>188.54</td>\n",
       "      <td>200.19</td>\n",
       "      <td>185.60</td>\n",
       "      <td>191.560</td>\n",
       "      <td>3063783</td>\n",
       "      <td>188.54</td>\n",
       "      <td>200.19</td>\n",
       "      <td>185.60</td>\n",
       "      <td>191.560</td>\n",
       "      <td>3063783</td>\n",
       "      <td>0.0</td>\n",
       "      <td>1.0</td>\n",
       "    </tr>\n",
       "  </tbody>\n",
       "</table>\n",
       "</div>"
      ],
      "text/plain": [
       "                          symbol   close    high     low     open   volume  \\\n",
       "date                                                                         \n",
       "2017-12-31 00:00:00+00:00   NFLX  146.17  147.27  144.25  146.130  2160300   \n",
       "2018-12-31 00:00:00+00:00   NFLX  201.07  201.65  195.42  196.100  3577717   \n",
       "2019-12-31 00:00:00+00:00   NFLX  254.59  265.00  252.28  255.710  2019322   \n",
       "2020-12-31 00:00:00+00:00   NFLX  298.84  322.90  290.25  302.395  1143952   \n",
       "2021-12-31 00:00:00+00:00   NFLX  484.98  488.57  478.54  479.750  1287513   \n",
       "2022-12-31 00:00:00+00:00   NFLX  188.54  200.19  185.60  191.560  3063783   \n",
       "\n",
       "                           adjClose  adjHigh  adjLow  adjOpen  adjVolume  \\\n",
       "date                                                                       \n",
       "2017-12-31 00:00:00+00:00    146.17   147.27  144.25  146.130    2160300   \n",
       "2018-12-31 00:00:00+00:00    201.07   201.65  195.42  196.100    3577717   \n",
       "2019-12-31 00:00:00+00:00    254.59   265.00  252.28  255.710    2019322   \n",
       "2020-12-31 00:00:00+00:00    298.84   322.90  290.25  302.395    1143952   \n",
       "2021-12-31 00:00:00+00:00    484.98   488.57  478.54  479.750    1287513   \n",
       "2022-12-31 00:00:00+00:00    188.54   200.19  185.60  191.560    3063783   \n",
       "\n",
       "                           divCash  splitFactor  \n",
       "date                                             \n",
       "2017-12-31 00:00:00+00:00      0.0          1.0  \n",
       "2018-12-31 00:00:00+00:00      0.0          1.0  \n",
       "2019-12-31 00:00:00+00:00      0.0          1.0  \n",
       "2020-12-31 00:00:00+00:00      0.0          1.0  \n",
       "2021-12-31 00:00:00+00:00      0.0          1.0  \n",
       "2022-12-31 00:00:00+00:00      0.0          1.0  "
      ]
     },
     "execution_count": 10,
     "metadata": {},
     "output_type": "execute_result"
    }
   ],
   "source": [
    "#year end frequency\n",
    "stock.resample(rule='A').min()"
   ]
  },
  {
   "cell_type": "code",
   "execution_count": 11,
   "metadata": {},
   "outputs": [
    {
     "data": {
      "text/html": [
       "<div>\n",
       "<style scoped>\n",
       "    .dataframe tbody tr th:only-of-type {\n",
       "        vertical-align: middle;\n",
       "    }\n",
       "\n",
       "    .dataframe tbody tr th {\n",
       "        vertical-align: top;\n",
       "    }\n",
       "\n",
       "    .dataframe thead th {\n",
       "        text-align: right;\n",
       "    }\n",
       "</style>\n",
       "<table border=\"1\" class=\"dataframe\">\n",
       "  <thead>\n",
       "    <tr style=\"text-align: right;\">\n",
       "      <th></th>\n",
       "      <th>symbol</th>\n",
       "      <th>close</th>\n",
       "      <th>high</th>\n",
       "      <th>low</th>\n",
       "      <th>open</th>\n",
       "      <th>volume</th>\n",
       "      <th>adjClose</th>\n",
       "      <th>adjHigh</th>\n",
       "      <th>adjLow</th>\n",
       "      <th>adjOpen</th>\n",
       "      <th>adjVolume</th>\n",
       "      <th>divCash</th>\n",
       "      <th>splitFactor</th>\n",
       "    </tr>\n",
       "    <tr>\n",
       "      <th>date</th>\n",
       "      <th></th>\n",
       "      <th></th>\n",
       "      <th></th>\n",
       "      <th></th>\n",
       "      <th></th>\n",
       "      <th></th>\n",
       "      <th></th>\n",
       "      <th></th>\n",
       "      <th></th>\n",
       "      <th></th>\n",
       "      <th></th>\n",
       "      <th></th>\n",
       "      <th></th>\n",
       "    </tr>\n",
       "  </thead>\n",
       "  <tbody>\n",
       "    <tr>\n",
       "      <th>2017-12-31 00:00:00+00:00</th>\n",
       "      <td>NFLX</td>\n",
       "      <td>202.68</td>\n",
       "      <td>204.3800</td>\n",
       "      <td>198.09</td>\n",
       "      <td>201.95</td>\n",
       "      <td>40126110</td>\n",
       "      <td>202.68</td>\n",
       "      <td>204.3800</td>\n",
       "      <td>198.09</td>\n",
       "      <td>201.95</td>\n",
       "      <td>40126110</td>\n",
       "      <td>0.0</td>\n",
       "      <td>1.0</td>\n",
       "    </tr>\n",
       "    <tr>\n",
       "      <th>2018-12-31 00:00:00+00:00</th>\n",
       "      <td>NFLX</td>\n",
       "      <td>418.97</td>\n",
       "      <td>423.2056</td>\n",
       "      <td>413.08</td>\n",
       "      <td>421.38</td>\n",
       "      <td>58410362</td>\n",
       "      <td>418.97</td>\n",
       "      <td>423.2056</td>\n",
       "      <td>413.08</td>\n",
       "      <td>421.38</td>\n",
       "      <td>58410362</td>\n",
       "      <td>0.0</td>\n",
       "      <td>1.0</td>\n",
       "    </tr>\n",
       "    <tr>\n",
       "      <th>2019-12-31 00:00:00+00:00</th>\n",
       "      <td>NFLX</td>\n",
       "      <td>385.03</td>\n",
       "      <td>385.9900</td>\n",
       "      <td>378.80</td>\n",
       "      <td>382.77</td>\n",
       "      <td>38462343</td>\n",
       "      <td>385.03</td>\n",
       "      <td>385.9900</td>\n",
       "      <td>378.80</td>\n",
       "      <td>382.77</td>\n",
       "      <td>38462343</td>\n",
       "      <td>0.0</td>\n",
       "      <td>1.0</td>\n",
       "    </tr>\n",
       "    <tr>\n",
       "      <th>2020-12-31 00:00:00+00:00</th>\n",
       "      <td>NFLX</td>\n",
       "      <td>556.55</td>\n",
       "      <td>575.3700</td>\n",
       "      <td>541.00</td>\n",
       "      <td>567.98</td>\n",
       "      <td>24991528</td>\n",
       "      <td>556.55</td>\n",
       "      <td>575.3700</td>\n",
       "      <td>541.00</td>\n",
       "      <td>567.98</td>\n",
       "      <td>24991528</td>\n",
       "      <td>0.0</td>\n",
       "      <td>1.0</td>\n",
       "    </tr>\n",
       "    <tr>\n",
       "      <th>2021-12-31 00:00:00+00:00</th>\n",
       "      <td>NFLX</td>\n",
       "      <td>691.69</td>\n",
       "      <td>700.9894</td>\n",
       "      <td>686.09</td>\n",
       "      <td>692.35</td>\n",
       "      <td>32637450</td>\n",
       "      <td>691.69</td>\n",
       "      <td>700.9894</td>\n",
       "      <td>686.09</td>\n",
       "      <td>692.35</td>\n",
       "      <td>32637450</td>\n",
       "      <td>0.0</td>\n",
       "      <td>1.0</td>\n",
       "    </tr>\n",
       "    <tr>\n",
       "      <th>2022-12-31 00:00:00+00:00</th>\n",
       "      <td>NFLX</td>\n",
       "      <td>597.37</td>\n",
       "      <td>609.9900</td>\n",
       "      <td>590.56</td>\n",
       "      <td>605.61</td>\n",
       "      <td>132644607</td>\n",
       "      <td>597.37</td>\n",
       "      <td>609.9900</td>\n",
       "      <td>590.56</td>\n",
       "      <td>605.61</td>\n",
       "      <td>132644607</td>\n",
       "      <td>0.0</td>\n",
       "      <td>1.0</td>\n",
       "    </tr>\n",
       "  </tbody>\n",
       "</table>\n",
       "</div>"
      ],
      "text/plain": [
       "                          symbol   close      high     low    open     volume  \\\n",
       "date                                                                            \n",
       "2017-12-31 00:00:00+00:00   NFLX  202.68  204.3800  198.09  201.95   40126110   \n",
       "2018-12-31 00:00:00+00:00   NFLX  418.97  423.2056  413.08  421.38   58410362   \n",
       "2019-12-31 00:00:00+00:00   NFLX  385.03  385.9900  378.80  382.77   38462343   \n",
       "2020-12-31 00:00:00+00:00   NFLX  556.55  575.3700  541.00  567.98   24991528   \n",
       "2021-12-31 00:00:00+00:00   NFLX  691.69  700.9894  686.09  692.35   32637450   \n",
       "2022-12-31 00:00:00+00:00   NFLX  597.37  609.9900  590.56  605.61  132644607   \n",
       "\n",
       "                           adjClose   adjHigh  adjLow  adjOpen  adjVolume  \\\n",
       "date                                                                        \n",
       "2017-12-31 00:00:00+00:00    202.68  204.3800  198.09   201.95   40126110   \n",
       "2018-12-31 00:00:00+00:00    418.97  423.2056  413.08   421.38   58410362   \n",
       "2019-12-31 00:00:00+00:00    385.03  385.9900  378.80   382.77   38462343   \n",
       "2020-12-31 00:00:00+00:00    556.55  575.3700  541.00   567.98   24991528   \n",
       "2021-12-31 00:00:00+00:00    691.69  700.9894  686.09   692.35   32637450   \n",
       "2022-12-31 00:00:00+00:00    597.37  609.9900  590.56   605.61  132644607   \n",
       "\n",
       "                           divCash  splitFactor  \n",
       "date                                             \n",
       "2017-12-31 00:00:00+00:00      0.0          1.0  \n",
       "2018-12-31 00:00:00+00:00      0.0          1.0  \n",
       "2019-12-31 00:00:00+00:00      0.0          1.0  \n",
       "2020-12-31 00:00:00+00:00      0.0          1.0  \n",
       "2021-12-31 00:00:00+00:00      0.0          1.0  \n",
       "2022-12-31 00:00:00+00:00      0.0          1.0  "
      ]
     },
     "execution_count": 11,
     "metadata": {},
     "output_type": "execute_result"
    }
   ],
   "source": [
    "stock.resample(rule='A').max()"
   ]
  },
  {
   "cell_type": "code",
   "execution_count": 12,
   "metadata": {},
   "outputs": [
    {
     "data": {
      "text/plain": [
       "<AxesSubplot:xlabel='date'>"
      ]
     },
     "execution_count": 12,
     "metadata": {},
     "output_type": "execute_result"
    },
    {
     "data": {
      "image/png": "[encoded data removed]",
      "text/plain": [
       "<Figure size 432x288 with 1 Axes>"
      ]
     },
     "metadata": {
      "needs_background": "light"
     },
     "output_type": "display_data"
    }
   ],
   "source": [
    "stock.resample(rule='A').max()['open'].plot()"
   ]
  },
  {
   "cell_type": "code",
   "execution_count": 13,
   "metadata": {},
   "outputs": [
    {
     "data": {
      "text/plain": [
       "<AxesSubplot:xlabel='date'>"
      ]
     },
     "execution_count": 13,
     "metadata": {},
     "output_type": "execute_result"
    },
    {
     "data": {
      "image/png": "[encoded data removed]",
      "text/plain": [
       "<Figure size 432x288 with 1 Axes>"
      ]
     },
     "metadata": {
      "needs_background": "light"
     },
     "output_type": "display_data"
    }
   ],
   "source": [
    "#quaterly start frequency\n",
    "stock.resample(rule='QS').max()['high'].plot()"
   ]
  },
  {
   "cell_type": "code",
   "execution_count": 14,
   "metadata": {},
   "outputs": [],
   "source": [
    "df1 = stock.reset_index()['close']"
   ]
  },
  {
   "cell_type": "code",
   "execution_count": 15,
   "metadata": {},
   "outputs": [
    {
     "data": {
      "text/plain": [
       "0       156.60\n",
       "1       156.38\n",
       "2       157.46\n",
       "3       160.28\n",
       "4       158.54\n",
       "         ...  \n",
       "1254    199.52\n",
       "1255    190.36\n",
       "1256    199.46\n",
       "1257    199.87\n",
       "1258    204.01\n",
       "Name: close, Length: 1259, dtype: float64"
      ]
     },
     "execution_count": 15,
     "metadata": {},
     "output_type": "execute_result"
    }
   ],
   "source": [
    "df1"
   ]
  },
  {
   "cell_type": "code",
   "execution_count": 16,
   "metadata": {},
   "outputs": [
    {
     "data": {
      "text/plain": [
       "[<matplotlib.lines.Line2D at 0x149a5789ff0>]"
      ]
     },
     "execution_count": 16,
     "metadata": {},
     "output_type": "execute_result"
    },
    {
     "data": {
      "image/png": "[encoded data removed]",
      "text/plain": [
       "<Figure size 432x288 with 1 Axes>"
      ]
     },
     "metadata": {
      "needs_background": "light"
     },
     "output_type": "display_data"
    }
   ],
   "source": [
    "import matplotlib.pyplot as plt\n",
    "plt.plot(df1)"
   ]
  },
  {
   "cell_type": "code",
   "execution_count": 17,
   "metadata": {},
   "outputs": [],
   "source": [
    "from sklearn.preprocessing import MinMaxScaler\n",
    "scaler = MinMaxScaler(feature_range=(0,1))\n",
    "df1 = scaler.fit_transform(np.array(df1).reshape(-1,1))"
   ]
  },
  {
   "cell_type": "code",
   "execution_count": 18,
   "metadata": {},
   "outputs": [
    {
     "data": {
      "text/plain": [
       "(1259, 1)"
      ]
     },
     "execution_count": 18,
     "metadata": {},
     "output_type": "execute_result"
    }
   ],
   "source": [
    "df1.shape"
   ]
  },
  {
   "cell_type": "code",
   "execution_count": 19,
   "metadata": {},
   "outputs": [],
   "source": [
    "#timer series train and test split \n",
    "train_size = int(len(df1)*0.65)\n",
    "test_size=len(df1)-train_size\n",
    "train,test = df1[0:train_size,:],df1[train_size:len(df1),:1]"
   ]
  },
  {
   "cell_type": "code",
   "execution_count": 20,
   "metadata": {},
   "outputs": [],
   "source": [
    "def create_dataset(dataset, time_step=1):\n",
    "    dataX, dataY = [], []\n",
    "    for i in range(len(dataset)-time_step-1):\n",
    "        a = dataset[i:(i+time_step), 0] #i=0, 0,1,2,3\n",
    "        dataX.append(a)\n",
    "        dataY.append(dataset[i + time_step, 0])\n",
    "    return np.array(dataX), np.array(dataY)"
   ]
  },
  {
   "cell_type": "code",
   "execution_count": 21,
   "metadata": {},
   "outputs": [],
   "source": [
    "#reshape into X=t,t+1,t+2,t+3 and Y=t+4\n",
    "time_step = 100\n",
    "X_train, y_train = create_dataset(train, time_step)\n",
    "X_test, y_test = create_dataset(test, time_step)"
   ]
  },
  {
   "cell_type": "code",
   "execution_count": 22,
   "metadata": {},
   "outputs": [
    {
     "name": "stdout",
     "output_type": "stream",
     "text": [
      "(717, 100)\n",
      "(717,)\n"
     ]
    },
    {
     "data": {
      "text/plain": [
       "(None, None)"
      ]
     },
     "execution_count": 22,
     "metadata": {},
     "output_type": "execute_result"
    }
   ],
   "source": [
    "print(X_train.shape), print(y_train.shape)"
   ]
  },
  {
   "cell_type": "code",
   "execution_count": 23,
   "metadata": {},
   "outputs": [
    {
     "name": "stdout",
     "output_type": "stream",
     "text": [
      "(340, 100)\n",
      "(340,)\n"
     ]
    },
    {
     "data": {
      "text/plain": [
       "(None, None)"
      ]
     },
     "execution_count": 23,
     "metadata": {},
     "output_type": "execute_result"
    }
   ],
   "source": [
    "print(X_test.shape), print(y_test.shape)"
   ]
  },
  {
   "cell_type": "code",
   "execution_count": 24,
   "metadata": {},
   "outputs": [],
   "source": [
    "#reshape input to be [samples, time steps, features] for LSTM\n",
    "# convert into 3 dimension\n",
    "X_train = X_train.reshape(X_train.shape[0], X_train.shape[1], 1)\n",
    "X_test = X_test.reshape(X_test.shape[0], X_test.shape[1], 1)"
   ]
  },
  {
   "cell_type": "code",
   "execution_count": 25,
   "metadata": {},
   "outputs": [
    {
     "data": {
      "text/plain": [
       "array([[[0.01911937],\n",
       "        [0.01871609],\n",
       "        [0.02069585],\n",
       "        ...,\n",
       "        [0.07548761],\n",
       "        [0.05935621],\n",
       "        [0.06087769]],\n",
       "\n",
       "       [[0.01871609],\n",
       "        [0.02069585],\n",
       "        [0.02586523],\n",
       "        ...,\n",
       "        [0.05935621],\n",
       "        [0.06087769],\n",
       "        [0.06562546]],\n",
       "\n",
       "       [[0.02069585],\n",
       "        [0.02586523],\n",
       "        [0.02267561],\n",
       "        ...,\n",
       "        [0.06087769],\n",
       "        [0.06562546],\n",
       "        [0.0632974 ]],\n",
       "\n",
       "       ...,\n",
       "\n",
       "       [[0.36720927],\n",
       "        [0.39954539],\n",
       "        [0.37349685],\n",
       "        ...,\n",
       "        [0.64063646],\n",
       "        [0.62754803],\n",
       "        [0.62016058]],\n",
       "\n",
       "       [[0.39954539],\n",
       "        [0.37349685],\n",
       "        [0.30994281],\n",
       "        ...,\n",
       "        [0.62754803],\n",
       "        [0.62016058],\n",
       "        [0.62258029]],\n",
       "\n",
       "       [[0.37349685],\n",
       "        [0.30994281],\n",
       "        [0.34852068],\n",
       "        ...,\n",
       "        [0.62016058],\n",
       "        [0.62258029],\n",
       "        [0.62822628]]])"
      ]
     },
     "execution_count": 25,
     "metadata": {},
     "output_type": "execute_result"
    }
   ],
   "source": [
    "X_train"
   ]
  },
  {
   "cell_type": "code",
   "execution_count": 26,
   "metadata": {},
   "outputs": [],
   "source": [
    "#create stack LSTM model\n",
    "from tensorflow.keras.models import Sequential\n",
    "from tensorflow.keras.layers import Dense\n",
    "from tensorflow.keras.layers import LSTM"
   ]
  },
  {
   "cell_type": "code",
   "execution_count": 27,
   "metadata": {},
   "outputs": [],
   "source": [
    "model = Sequential()\n",
    "model.add(LSTM(50,return_sequences=True,input_shape=(100,1)))\n",
    "model.add(LSTM(50,return_sequences=True))\n",
    "model.add(LSTM(50))\n",
    "model.add(Dense(1))\n",
    "model.compile(loss='mean_squared_error',optimizer='adam')"
   ]
  },
  {
   "cell_type": "code",
   "execution_count": 28,
   "metadata": {},
   "outputs": [
    {
     "name": "stdout",
     "output_type": "stream",
     "text": [
      "Model: \"sequential\"\n",
      "_________________________________________________________________\n",
      " Layer (type)                Output Shape              Param #   \n",
      "=================================================================\n",
      " lstm (LSTM)                 (None, 100, 50)           10400     \n",
      "                                                                 \n",
      " lstm_1 (LSTM)               (None, 100, 50)           20200     \n",
      "                                                                 \n",
      " lstm_2 (LSTM)               (None, 50)                20200     \n",
      "                                                                 \n",
      " dense (Dense)               (None, 1)                 51        \n",
      "                                                                 \n",
      "=================================================================\n",
      "Total params: 50,851\n",
      "Trainable params: 50,851\n",
      "Non-trainable params: 0\n",
      "_________________________________________________________________\n"
     ]
    }
   ],
   "source": [
    "model.summary()"
   ]
  },
  {
   "cell_type": "code",
   "execution_count": 29,
   "metadata": {},
   "outputs": [
    {
     "name": "stdout",
     "output_type": "stream",
     "text": [
      "Epoch 1/100\n",
      "12/12 [==============================] - 5s 169ms/step - loss: 0.0353 - val_loss: 0.0530\n",
      "Epoch 2/100\n",
      "12/12 [==============================] - 1s 88ms/step - loss: 0.0074 - val_loss: 0.0107\n",
      "Epoch 3/100\n",
      "12/12 [==============================] - 1s 86ms/step - loss: 0.0043 - val_loss: 0.0283\n",
      "Epoch 4/100\n",
      "12/12 [==============================] - 1s 89ms/step - loss: 0.0029 - val_loss: 0.0099\n",
      "Epoch 5/100\n",
      "12/12 [==============================] - 1s 86ms/step - loss: 0.0021 - val_loss: 0.0067\n",
      "Epoch 6/100\n",
      "12/12 [==============================] - 1s 86ms/step - loss: 0.0018 - val_loss: 0.0061\n",
      "Epoch 7/100\n",
      "12/12 [==============================] - 1s 85ms/step - loss: 0.0018 - val_loss: 0.0067\n",
      "Epoch 8/100\n",
      "12/12 [==============================] - 1s 85ms/step - loss: 0.0017 - val_loss: 0.0061\n",
      "Epoch 9/100\n",
      "12/12 [==============================] - 1s 84ms/step - loss: 0.0017 - val_loss: 0.0067\n",
      "Epoch 10/100\n",
      "12/12 [==============================] - 1s 85ms/step - loss: 0.0018 - val_loss: 0.0065\n",
      "Epoch 11/100\n",
      "12/12 [==============================] - 1s 86ms/step - loss: 0.0018 - val_loss: 0.0073\n",
      "Epoch 12/100\n",
      "12/12 [==============================] - 1s 87ms/step - loss: 0.0017 - val_loss: 0.0057\n",
      "Epoch 13/100\n",
      "12/12 [==============================] - 1s 86ms/step - loss: 0.0016 - val_loss: 0.0051\n",
      "Epoch 14/100\n",
      "12/12 [==============================] - 1s 90ms/step - loss: 0.0016 - val_loss: 0.0046\n",
      "Epoch 15/100\n",
      "12/12 [==============================] - 1s 92ms/step - loss: 0.0015 - val_loss: 0.0052\n",
      "Epoch 16/100\n",
      "12/12 [==============================] - 1s 84ms/step - loss: 0.0016 - val_loss: 0.0098\n",
      "Epoch 17/100\n",
      "12/12 [==============================] - 1s 86ms/step - loss: 0.0018 - val_loss: 0.0044\n",
      "Epoch 18/100\n",
      "12/12 [==============================] - 1s 85ms/step - loss: 0.0014 - val_loss: 0.0041\n",
      "Epoch 19/100\n",
      "12/12 [==============================] - 1s 85ms/step - loss: 0.0014 - val_loss: 0.0040\n",
      "Epoch 20/100\n",
      "12/12 [==============================] - 1s 84ms/step - loss: 0.0015 - val_loss: 0.0054\n",
      "Epoch 21/100\n",
      "12/12 [==============================] - 1s 84ms/step - loss: 0.0014 - val_loss: 0.0039\n",
      "Epoch 22/100\n",
      "12/12 [==============================] - 1s 83ms/step - loss: 0.0013 - val_loss: 0.0041\n",
      "Epoch 23/100\n",
      "12/12 [==============================] - 1s 84ms/step - loss: 0.0012 - val_loss: 0.0041\n",
      "Epoch 24/100\n",
      "12/12 [==============================] - 1s 82ms/step - loss: 0.0012 - val_loss: 0.0038\n",
      "Epoch 25/100\n",
      "12/12 [==============================] - 1s 82ms/step - loss: 0.0012 - val_loss: 0.0034\n",
      "Epoch 26/100\n",
      "12/12 [==============================] - 1s 83ms/step - loss: 0.0012 - val_loss: 0.0046\n",
      "Epoch 27/100\n",
      "12/12 [==============================] - 1s 82ms/step - loss: 0.0012 - val_loss: 0.0038\n",
      "Epoch 28/100\n",
      "12/12 [==============================] - 1s 84ms/step - loss: 0.0012 - val_loss: 0.0039\n",
      "Epoch 29/100\n",
      "12/12 [==============================] - 1s 82ms/step - loss: 0.0012 - val_loss: 0.0040\n",
      "Epoch 30/100\n",
      "12/12 [==============================] - 1s 82ms/step - loss: 0.0012 - val_loss: 0.0034\n",
      "Epoch 31/100\n",
      "12/12 [==============================] - 1s 83ms/step - loss: 0.0012 - val_loss: 0.0042\n",
      "Epoch 32/100\n",
      "12/12 [==============================] - 1s 82ms/step - loss: 0.0012 - val_loss: 0.0031\n",
      "Epoch 33/100\n",
      "12/12 [==============================] - 1s 82ms/step - loss: 0.0011 - val_loss: 0.0031\n",
      "Epoch 34/100\n",
      "12/12 [==============================] - 1s 82ms/step - loss: 0.0012 - val_loss: 0.0036\n",
      "Epoch 35/100\n",
      "12/12 [==============================] - 1s 83ms/step - loss: 0.0011 - val_loss: 0.0032\n",
      "Epoch 36/100\n",
      "12/12 [==============================] - 1s 82ms/step - loss: 0.0010 - val_loss: 0.0037\n",
      "Epoch 37/100\n",
      "12/12 [==============================] - 1s 82ms/step - loss: 0.0010 - val_loss: 0.0044\n",
      "Epoch 38/100\n",
      "12/12 [==============================] - 1s 84ms/step - loss: 0.0011 - val_loss: 0.0030\n",
      "Epoch 39/100\n",
      "12/12 [==============================] - 1s 87ms/step - loss: 0.0010 - val_loss: 0.0045\n",
      "Epoch 40/100\n",
      "12/12 [==============================] - 1s 83ms/step - loss: 0.0011 - val_loss: 0.0030\n",
      "Epoch 41/100\n",
      "12/12 [==============================] - 1s 84ms/step - loss: 0.0011 - val_loss: 0.0033\n",
      "Epoch 42/100\n",
      "12/12 [==============================] - 1s 82ms/step - loss: 9.9615e-04 - val_loss: 0.0035\n",
      "Epoch 43/100\n",
      "12/12 [==============================] - 1s 81ms/step - loss: 9.8030e-04 - val_loss: 0.0034\n",
      "Epoch 44/100\n",
      "12/12 [==============================] - 1s 83ms/step - loss: 0.0011 - val_loss: 0.0027\n",
      "Epoch 45/100\n",
      "12/12 [==============================] - 1s 82ms/step - loss: 0.0011 - val_loss: 0.0029\n",
      "Epoch 46/100\n",
      "12/12 [==============================] - 1s 82ms/step - loss: 9.8084e-04 - val_loss: 0.0030\n",
      "Epoch 47/100\n",
      "12/12 [==============================] - 1s 82ms/step - loss: 9.3837e-04 - val_loss: 0.0026\n",
      "Epoch 48/100\n",
      "12/12 [==============================] - 1s 83ms/step - loss: 0.0010 - val_loss: 0.0028\n",
      "Epoch 49/100\n",
      "12/12 [==============================] - 1s 81ms/step - loss: 0.0010 - val_loss: 0.0029\n",
      "Epoch 50/100\n",
      "12/12 [==============================] - 1s 81ms/step - loss: 9.1916e-04 - val_loss: 0.0024\n",
      "Epoch 51/100\n",
      "12/12 [==============================] - 1s 82ms/step - loss: 9.3659e-04 - val_loss: 0.0034\n",
      "Epoch 52/100\n",
      "12/12 [==============================] - 1s 81ms/step - loss: 9.3542e-04 - val_loss: 0.0028\n",
      "Epoch 53/100\n",
      "12/12 [==============================] - 1s 81ms/step - loss: 9.1988e-04 - val_loss: 0.0049\n",
      "Epoch 54/100\n",
      "12/12 [==============================] - 1s 82ms/step - loss: 0.0010 - val_loss: 0.0029\n",
      "Epoch 55/100\n",
      "12/12 [==============================] - 1s 81ms/step - loss: 9.0620e-04 - val_loss: 0.0023\n",
      "Epoch 56/100\n",
      "12/12 [==============================] - 1s 84ms/step - loss: 8.9422e-04 - val_loss: 0.0025\n",
      "Epoch 57/100\n",
      "12/12 [==============================] - 1s 82ms/step - loss: 8.6080e-04 - val_loss: 0.0022\n",
      "Epoch 58/100\n",
      "12/12 [==============================] - 1s 81ms/step - loss: 9.2220e-04 - val_loss: 0.0021\n",
      "Epoch 59/100\n",
      "12/12 [==============================] - 1s 81ms/step - loss: 9.6237e-04 - val_loss: 0.0026\n",
      "Epoch 60/100\n",
      "12/12 [==============================] - 1s 82ms/step - loss: 9.2998e-04 - val_loss: 0.0020\n",
      "Epoch 61/100\n",
      "12/12 [==============================] - 1s 81ms/step - loss: 8.4969e-04 - val_loss: 0.0031\n",
      "Epoch 62/100\n",
      "12/12 [==============================] - 1s 87ms/step - loss: 8.4458e-04 - val_loss: 0.0027\n",
      "Epoch 63/100\n",
      "12/12 [==============================] - 1s 83ms/step - loss: 9.0948e-04 - val_loss: 0.0020\n",
      "Epoch 64/100\n",
      "12/12 [==============================] - 1s 84ms/step - loss: 7.4122e-04 - val_loss: 0.0019\n",
      "Epoch 65/100\n",
      "12/12 [==============================] - 1s 82ms/step - loss: 7.6714e-04 - val_loss: 0.0020\n",
      "Epoch 66/100\n",
      "12/12 [==============================] - 1s 82ms/step - loss: 7.8353e-04 - val_loss: 0.0018\n",
      "Epoch 67/100\n",
      "12/12 [==============================] - 1s 81ms/step - loss: 7.2466e-04 - val_loss: 0.0018\n",
      "Epoch 68/100\n",
      "12/12 [==============================] - 1s 82ms/step - loss: 6.8834e-04 - val_loss: 0.0017\n",
      "Epoch 69/100\n",
      "12/12 [==============================] - 1s 81ms/step - loss: 6.6571e-04 - val_loss: 0.0019\n",
      "Epoch 70/100\n",
      "12/12 [==============================] - 1s 83ms/step - loss: 6.5502e-04 - val_loss: 0.0016\n",
      "Epoch 71/100\n",
      "12/12 [==============================] - 1s 81ms/step - loss: 6.4518e-04 - val_loss: 0.0016\n",
      "Epoch 72/100\n",
      "12/12 [==============================] - 1s 82ms/step - loss: 5.8349e-04 - val_loss: 0.0016\n",
      "Epoch 73/100\n",
      "12/12 [==============================] - 1s 81ms/step - loss: 6.0552e-04 - val_loss: 0.0018\n",
      "Epoch 74/100\n",
      "12/12 [==============================] - 1s 82ms/step - loss: 5.7959e-04 - val_loss: 0.0016\n",
      "Epoch 75/100\n",
      "12/12 [==============================] - 1s 81ms/step - loss: 5.4565e-04 - val_loss: 0.0014\n",
      "Epoch 76/100\n",
      "12/12 [==============================] - 1s 84ms/step - loss: 5.1951e-04 - val_loss: 0.0014\n",
      "Epoch 77/100\n",
      "12/12 [==============================] - 1s 81ms/step - loss: 4.8814e-04 - val_loss: 0.0014\n",
      "Epoch 78/100\n",
      "12/12 [==============================] - 1s 84ms/step - loss: 4.8086e-04 - val_loss: 0.0014\n",
      "Epoch 79/100\n",
      "12/12 [==============================] - 1s 82ms/step - loss: 4.7978e-04 - val_loss: 0.0019\n",
      "Epoch 80/100\n",
      "12/12 [==============================] - 1s 81ms/step - loss: 4.9760e-04 - val_loss: 0.0012\n",
      "Epoch 81/100\n",
      "12/12 [==============================] - 1s 81ms/step - loss: 4.3773e-04 - val_loss: 0.0017\n",
      "Epoch 82/100\n",
      "12/12 [==============================] - 1s 83ms/step - loss: 4.6924e-04 - val_loss: 0.0017\n",
      "Epoch 83/100\n",
      "12/12 [==============================] - 1s 81ms/step - loss: 5.6727e-04 - val_loss: 0.0013\n",
      "Epoch 84/100\n",
      "12/12 [==============================] - 1s 82ms/step - loss: 4.7227e-04 - val_loss: 0.0016\n",
      "Epoch 85/100\n",
      "12/12 [==============================] - 1s 83ms/step - loss: 4.8753e-04 - val_loss: 0.0019\n",
      "Epoch 86/100\n",
      "12/12 [==============================] - 1s 83ms/step - loss: 4.2470e-04 - val_loss: 0.0011\n",
      "Epoch 87/100\n",
      "12/12 [==============================] - 1s 84ms/step - loss: 4.0310e-04 - val_loss: 0.0013\n",
      "Epoch 88/100\n",
      "12/12 [==============================] - 1s 82ms/step - loss: 5.0755e-04 - val_loss: 0.0019\n",
      "Epoch 89/100\n",
      "12/12 [==============================] - 1s 82ms/step - loss: 4.8439e-04 - val_loss: 0.0013\n",
      "Epoch 90/100\n",
      "12/12 [==============================] - 1s 82ms/step - loss: 4.0678e-04 - val_loss: 0.0015\n",
      "Epoch 91/100\n",
      "12/12 [==============================] - 1s 82ms/step - loss: 5.0050e-04 - val_loss: 0.0015\n",
      "Epoch 92/100\n",
      "12/12 [==============================] - 1s 82ms/step - loss: 4.7743e-04 - val_loss: 0.0019\n",
      "Epoch 93/100\n",
      "12/12 [==============================] - 1s 81ms/step - loss: 4.1580e-04 - val_loss: 0.0014\n",
      "Epoch 94/100\n",
      "12/12 [==============================] - 1s 81ms/step - loss: 4.1279e-04 - val_loss: 0.0012\n",
      "Epoch 95/100\n",
      "12/12 [==============================] - 1s 82ms/step - loss: 3.8627e-04 - val_loss: 0.0012\n",
      "Epoch 96/100\n",
      "12/12 [==============================] - 1s 81ms/step - loss: 3.7494e-04 - val_loss: 0.0010\n",
      "Epoch 97/100\n",
      "12/12 [==============================] - 1s 82ms/step - loss: 3.5274e-04 - val_loss: 0.0011\n",
      "Epoch 98/100\n",
      "12/12 [==============================] - 1s 81ms/step - loss: 3.4912e-04 - val_loss: 9.7725e-04\n",
      "Epoch 99/100\n",
      "12/12 [==============================] - 1s 85ms/step - loss: 3.4515e-04 - val_loss: 9.3520e-04\n",
      "Epoch 100/100\n",
      "12/12 [==============================] - 1s 81ms/step - loss: 3.8631e-04 - val_loss: 0.0013\n"
     ]
    },
    {
     "data": {
      "text/plain": [
       "<keras.callbacks.History at 0x149cad8c940>"
      ]
     },
     "execution_count": 29,
     "metadata": {},
     "output_type": "execute_result"
    }
   ],
   "source": [
    "model.fit(X_train,y_train,validation_data=(X_test,y_test),epochs = 100,batch_size=64,verbose=1)"
   ]
  },
  {
   "cell_type": "code",
   "execution_count": 30,
   "metadata": {},
   "outputs": [],
   "source": [
    "import tensorflow as tf"
   ]
  },
  {
   "cell_type": "code",
   "execution_count": 31,
   "metadata": {},
   "outputs": [],
   "source": [
    "#prediciton and check performance metrics\n",
    "train_predict = model.predict(X_train)\n",
    "test_predict = model.predict(X_test)"
   ]
  },
  {
   "cell_type": "code",
   "execution_count": 32,
   "metadata": {},
   "outputs": [],
   "source": [
    "#Transform back to original form\n",
    "train_predict = scaler.inverse_transform(train_predict)\n",
    "test_predict = scaler.inverse_transform(test_predict)"
   ]
  },
  {
   "cell_type": "code",
   "execution_count": 33,
   "metadata": {},
   "outputs": [
    {
     "data": {
      "text/plain": [
       "329.46250807205126"
      ]
     },
     "execution_count": 33,
     "metadata": {},
     "output_type": "execute_result"
    }
   ],
   "source": [
    "#calculate RMSE performance metrics\n",
    "import math\n",
    "from sklearn.metrics import mean_squared_error\n",
    "math.sqrt(mean_squared_error(y_train,train_predict))"
   ]
  },
  {
   "cell_type": "code",
   "execution_count": 34,
   "metadata": {},
   "outputs": [
    {
     "data": {
      "text/plain": [
       "512.2072673415389"
      ]
     },
     "execution_count": 34,
     "metadata": {},
     "output_type": "execute_result"
    }
   ],
   "source": [
    "#test data RMSE\n",
    "math.sqrt(mean_squared_error(y_test,test_predict))"
   ]
  },
  {
   "cell_type": "code",
   "execution_count": null,
   "metadata": {},
   "outputs": [],
   "source": []
  },
  {
   "cell_type": "code",
   "execution_count": 35,
   "metadata": {},
   "outputs": [
    {
     "data": {
      "image/png": "[encoded data removed]",
      "text/plain": [
       "<Figure size 432x288 with 1 Axes>"
      ]
     },
     "metadata": {
      "needs_background": "light"
     },
     "output_type": "display_data"
    }
   ],
   "source": [
    "### Plotting \n",
    "# shift train predictions for plotting\n",
    "look_back=100\n",
    "trainPredictPlot = np.empty_like(df1)\n",
    "trainPredictPlot[:, :] = np.nan\n",
    "trainPredictPlot[look_back:len(train_predict)+look_back, :] = train_predict\n",
    "# shift test predictions for plotting\n",
    "testPredictPlot = np.empty_like(df1)\n",
    "testPredictPlot[:, :] = np.nan\n",
    "testPredictPlot[len(train_predict)+(look_back*2)+1:len(df1)-1, :] = test_predict\n",
    "# plot baseline and predictions\n",
    "plt.plot(scaler.inverse_transform(df1))\n",
    "plt.plot(trainPredictPlot)\n",
    "plt.plot(testPredictPlot)\n",
    "plt.show()"
   ]
  },
  {
   "cell_type": "code",
   "execution_count": 36,
   "metadata": {},
   "outputs": [
    {
     "data": {
      "text/plain": [
       "441"
      ]
     },
     "execution_count": 36,
     "metadata": {},
     "output_type": "execute_result"
    }
   ],
   "source": [
    "len(test)"
   ]
  },
  {
   "cell_type": "code",
   "execution_count": 37,
   "metadata": {},
   "outputs": [],
   "source": [
    "x_input = test[341:].reshape(1,-1)"
   ]
  },
  {
   "cell_type": "code",
   "execution_count": 38,
   "metadata": {},
   "outputs": [],
   "source": [
    "temp_input = list(x_input)\n",
    "temp_input = temp_input[0].tolist()"
   ]
  },
  {
   "cell_type": "code",
   "execution_count": 39,
   "metadata": {},
   "outputs": [
    {
     "name": "stdout",
     "output_type": "stream",
     "text": [
      "[0.09387849]\n",
      "101\n",
      "1 day input [0.84028083 0.82823728 0.84116073 0.8155338  0.80759642 0.82044655\n",
      " 0.84094075 0.85802537 0.8577504  0.85597228 0.85155448 0.85124285\n",
      " 0.85408418 0.83639463 0.82710075 0.81569878 0.77238231 0.74629711\n",
      " 0.72387813 0.72166007 0.72347485 0.71683898 0.68380628 0.69570318\n",
      " 0.66840812 0.67768368 0.66373369 0.46071638 0.44174366 0.40374322\n",
      " 0.3914247  0.44091876 0.43662927 0.51504986 0.57002493 0.51933935\n",
      " 0.4755646  0.48394193 0.4691487  0.47177005 0.488928   0.47679278\n",
      " 0.44936941 0.45901159 0.47897419 0.46177959 0.44086376 0.44933275\n",
      " 0.42383414 0.40564966 0.44702302 0.44843452 0.4552537  0.44007552\n",
      " 0.42869189 0.40676785 0.39514592 0.37412011 0.35853864 0.38975656\n",
      " 0.38605367 0.35589896 0.33883267 0.36218654 0.38744684 0.41287212\n",
      " 0.42973676 0.41871975 0.43398959 0.41853644 0.42077284 0.41736325\n",
      " 0.42590556 0.4503043  0.43133157 0.41871975 0.41666667 0.4497177\n",
      " 0.42891186 0.40728113 0.39591582 0.3844222  0.36997727 0.36282813\n",
      " 0.37443173 0.35738378 0.3513895  0.37109547 0.14668573 0.13207582\n",
      " 0.12712641 0.11684265 0.09574351 0.07766901 0.0977966  0.08100528\n",
      " 0.09768661 0.09843819 0.10602728 0.09387849]\n",
      "1 day output [[0.09243573]]\n",
      "2 day input [0.82823728 0.84116073 0.8155338  0.80759642 0.82044655 0.84094075\n",
      " 0.85802537 0.8577504  0.85597228 0.85155448 0.85124285 0.85408418\n",
      " 0.83639463 0.82710075 0.81569878 0.77238231 0.74629711 0.72387813\n",
      " 0.72166007 0.72347485 0.71683898 0.68380628 0.69570318 0.66840812\n",
      " 0.67768368 0.66373369 0.46071638 0.44174366 0.40374322 0.3914247\n",
      " 0.44091876 0.43662927 0.51504986 0.57002493 0.51933935 0.4755646\n",
      " 0.48394193 0.4691487  0.47177005 0.488928   0.47679278 0.44936941\n",
      " 0.45901159 0.47897419 0.46177959 0.44086376 0.44933275 0.42383414\n",
      " 0.40564966 0.44702302 0.44843452 0.4552537  0.44007552 0.42869189\n",
      " 0.40676785 0.39514592 0.37412011 0.35853864 0.38975656 0.38605367\n",
      " 0.35589896 0.33883267 0.36218654 0.38744684 0.41287212 0.42973676\n",
      " 0.41871975 0.43398959 0.41853644 0.42077284 0.41736325 0.42590556\n",
      " 0.4503043  0.43133157 0.41871975 0.41666667 0.4497177  0.42891186\n",
      " 0.40728113 0.39591582 0.3844222  0.36997727 0.36282813 0.37443173\n",
      " 0.35738378 0.3513895  0.37109547 0.14668573 0.13207582 0.12712641\n",
      " 0.11684265 0.09574351 0.07766901 0.0977966  0.08100528 0.09768661\n",
      " 0.09843819 0.10602728 0.09387849 0.09243573]\n",
      "2 day output [[0.08901212]]\n",
      "3 day input [0.84116073 0.8155338  0.80759642 0.82044655 0.84094075 0.85802537\n",
      " 0.8577504  0.85597228 0.85155448 0.85124285 0.85408418 0.83639463\n",
      " 0.82710075 0.81569878 0.77238231 0.74629711 0.72387813 0.72166007\n",
      " 0.72347485 0.71683898 0.68380628 0.69570318 0.66840812 0.67768368\n",
      " 0.66373369 0.46071638 0.44174366 0.40374322 0.3914247  0.44091876\n",
      " 0.43662927 0.51504986 0.57002493 0.51933935 0.4755646  0.48394193\n",
      " 0.4691487  0.47177005 0.488928   0.47679278 0.44936941 0.45901159\n",
      " 0.47897419 0.46177959 0.44086376 0.44933275 0.42383414 0.40564966\n",
      " 0.44702302 0.44843452 0.4552537  0.44007552 0.42869189 0.40676785\n",
      " 0.39514592 0.37412011 0.35853864 0.38975656 0.38605367 0.35589896\n",
      " 0.33883267 0.36218654 0.38744684 0.41287212 0.42973676 0.41871975\n",
      " 0.43398959 0.41853644 0.42077284 0.41736325 0.42590556 0.4503043\n",
      " 0.43133157 0.41871975 0.41666667 0.4497177  0.42891186 0.40728113\n",
      " 0.39591582 0.3844222  0.36997727 0.36282813 0.37443173 0.35738378\n",
      " 0.3513895  0.37109547 0.14668573 0.13207582 0.12712641 0.11684265\n",
      " 0.09574351 0.07766901 0.0977966  0.08100528 0.09768661 0.09843819\n",
      " 0.10602728 0.09387849 0.09243573 0.08901212]\n",
      "3 day output [[0.08444504]]\n",
      "4 day input [0.8155338  0.80759642 0.82044655 0.84094075 0.85802537 0.8577504\n",
      " 0.85597228 0.85155448 0.85124285 0.85408418 0.83639463 0.82710075\n",
      " 0.81569878 0.77238231 0.74629711 0.72387813 0.72166007 0.72347485\n",
      " 0.71683898 0.68380628 0.69570318 0.66840812 0.67768368 0.66373369\n",
      " 0.46071638 0.44174366 0.40374322 0.3914247  0.44091876 0.43662927\n",
      " 0.51504986 0.57002493 0.51933935 0.4755646  0.48394193 0.4691487\n",
      " 0.47177005 0.488928   0.47679278 0.44936941 0.45901159 0.47897419\n",
      " 0.46177959 0.44086376 0.44933275 0.42383414 0.40564966 0.44702302\n",
      " 0.44843452 0.4552537  0.44007552 0.42869189 0.40676785 0.39514592\n",
      " 0.37412011 0.35853864 0.38975656 0.38605367 0.35589896 0.33883267\n",
      " 0.36218654 0.38744684 0.41287212 0.42973676 0.41871975 0.43398959\n",
      " 0.41853644 0.42077284 0.41736325 0.42590556 0.4503043  0.43133157\n",
      " 0.41871975 0.41666667 0.4497177  0.42891186 0.40728113 0.39591582\n",
      " 0.3844222  0.36997727 0.36282813 0.37443173 0.35738378 0.3513895\n",
      " 0.37109547 0.14668573 0.13207582 0.12712641 0.11684265 0.09574351\n",
      " 0.07766901 0.0977966  0.08100528 0.09768661 0.09843819 0.10602728\n",
      " 0.09387849 0.09243573 0.08901212 0.08444504]\n",
      "4 day output [[0.07946722]]\n",
      "5 day input [0.80759642 0.82044655 0.84094075 0.85802537 0.8577504  0.85597228\n",
      " 0.85155448 0.85124285 0.85408418 0.83639463 0.82710075 0.81569878\n",
      " 0.77238231 0.74629711 0.72387813 0.72166007 0.72347485 0.71683898\n",
      " 0.68380628 0.69570318 0.66840812 0.67768368 0.66373369 0.46071638\n",
      " 0.44174366 0.40374322 0.3914247  0.44091876 0.43662927 0.51504986\n",
      " 0.57002493 0.51933935 0.4755646  0.48394193 0.4691487  0.47177005\n",
      " 0.488928   0.47679278 0.44936941 0.45901159 0.47897419 0.46177959\n",
      " 0.44086376 0.44933275 0.42383414 0.40564966 0.44702302 0.44843452\n",
      " 0.4552537  0.44007552 0.42869189 0.40676785 0.39514592 0.37412011\n",
      " 0.35853864 0.38975656 0.38605367 0.35589896 0.33883267 0.36218654\n",
      " 0.38744684 0.41287212 0.42973676 0.41871975 0.43398959 0.41853644\n",
      " 0.42077284 0.41736325 0.42590556 0.4503043  0.43133157 0.41871975\n",
      " 0.41666667 0.4497177  0.42891186 0.40728113 0.39591582 0.3844222\n",
      " 0.36997727 0.36282813 0.37443173 0.35738378 0.3513895  0.37109547\n",
      " 0.14668573 0.13207582 0.12712641 0.11684265 0.09574351 0.07766901\n",
      " 0.0977966  0.08100528 0.09768661 0.09843819 0.10602728 0.09387849\n",
      " 0.09243573 0.08901212 0.08444504 0.07946722]\n",
      "5 day output [[0.0745851]]\n",
      "6 day input [0.82044655 0.84094075 0.85802537 0.8577504  0.85597228 0.85155448\n",
      " 0.85124285 0.85408418 0.83639463 0.82710075 0.81569878 0.77238231\n",
      " 0.74629711 0.72387813 0.72166007 0.72347485 0.71683898 0.68380628\n",
      " 0.69570318 0.66840812 0.67768368 0.66373369 0.46071638 0.44174366\n",
      " 0.40374322 0.3914247  0.44091876 0.43662927 0.51504986 0.57002493\n",
      " 0.51933935 0.4755646  0.48394193 0.4691487  0.47177005 0.488928\n",
      " 0.47679278 0.44936941 0.45901159 0.47897419 0.46177959 0.44086376\n",
      " 0.44933275 0.42383414 0.40564966 0.44702302 0.44843452 0.4552537\n",
      " 0.44007552 0.42869189 0.40676785 0.39514592 0.37412011 0.35853864\n",
      " 0.38975656 0.38605367 0.35589896 0.33883267 0.36218654 0.38744684\n",
      " 0.41287212 0.42973676 0.41871975 0.43398959 0.41853644 0.42077284\n",
      " 0.41736325 0.42590556 0.4503043  0.43133157 0.41871975 0.41666667\n",
      " 0.4497177  0.42891186 0.40728113 0.39591582 0.3844222  0.36997727\n",
      " 0.36282813 0.37443173 0.35738378 0.3513895  0.37109547 0.14668573\n",
      " 0.13207582 0.12712641 0.11684265 0.09574351 0.07766901 0.0977966\n",
      " 0.08100528 0.09768661 0.09843819 0.10602728 0.09387849 0.09243573\n",
      " 0.08901212 0.08444504 0.07946722 0.0745851 ]\n",
      "6 day output [[0.070117]]\n",
      "7 day input [0.84094075 0.85802537 0.8577504  0.85597228 0.85155448 0.85124285\n",
      " 0.85408418 0.83639463 0.82710075 0.81569878 0.77238231 0.74629711\n",
      " 0.72387813 0.72166007 0.72347485 0.71683898 0.68380628 0.69570318\n",
      " 0.66840812 0.67768368 0.66373369 0.46071638 0.44174366 0.40374322\n",
      " 0.3914247  0.44091876 0.43662927 0.51504986 0.57002493 0.51933935\n",
      " 0.4755646  0.48394193 0.4691487  0.47177005 0.488928   0.47679278\n",
      " 0.44936941 0.45901159 0.47897419 0.46177959 0.44086376 0.44933275\n",
      " 0.42383414 0.40564966 0.44702302 0.44843452 0.4552537  0.44007552\n",
      " 0.42869189 0.40676785 0.39514592 0.37412011 0.35853864 0.38975656\n",
      " 0.38605367 0.35589896 0.33883267 0.36218654 0.38744684 0.41287212\n",
      " 0.42973676 0.41871975 0.43398959 0.41853644 0.42077284 0.41736325\n",
      " 0.42590556 0.4503043  0.43133157 0.41871975 0.41666667 0.4497177\n",
      " 0.42891186 0.40728113 0.39591582 0.3844222  0.36997727 0.36282813\n",
      " 0.37443173 0.35738378 0.3513895  0.37109547 0.14668573 0.13207582\n",
      " 0.12712641 0.11684265 0.09574351 0.07766901 0.0977966  0.08100528\n",
      " 0.09768661 0.09843819 0.10602728 0.09387849 0.09243573 0.08901212\n",
      " 0.08444504 0.07946722 0.0745851  0.070117  ]\n",
      "7 day output [[0.0662419]]\n",
      "8 day input [0.85802537 0.8577504  0.85597228 0.85155448 0.85124285 0.85408418\n",
      " 0.83639463 0.82710075 0.81569878 0.77238231 0.74629711 0.72387813\n",
      " 0.72166007 0.72347485 0.71683898 0.68380628 0.69570318 0.66840812\n",
      " 0.67768368 0.66373369 0.46071638 0.44174366 0.40374322 0.3914247\n",
      " 0.44091876 0.43662927 0.51504986 0.57002493 0.51933935 0.4755646\n",
      " 0.48394193 0.4691487  0.47177005 0.488928   0.47679278 0.44936941\n",
      " 0.45901159 0.47897419 0.46177959 0.44086376 0.44933275 0.42383414\n",
      " 0.40564966 0.44702302 0.44843452 0.4552537  0.44007552 0.42869189\n",
      " 0.40676785 0.39514592 0.37412011 0.35853864 0.38975656 0.38605367\n",
      " 0.35589896 0.33883267 0.36218654 0.38744684 0.41287212 0.42973676\n",
      " 0.41871975 0.43398959 0.41853644 0.42077284 0.41736325 0.42590556\n",
      " 0.4503043  0.43133157 0.41871975 0.41666667 0.4497177  0.42891186\n",
      " 0.40728113 0.39591582 0.3844222  0.36997727 0.36282813 0.37443173\n",
      " 0.35738378 0.3513895  0.37109547 0.14668573 0.13207582 0.12712641\n",
      " 0.11684265 0.09574351 0.07766901 0.0977966  0.08100528 0.09768661\n",
      " 0.09843819 0.10602728 0.09387849 0.09243573 0.08901212 0.08444504\n",
      " 0.07946722 0.0745851  0.070117   0.0662419 ]\n",
      "8 day output [[0.06303478]]\n",
      "9 day input [0.8577504  0.85597228 0.85155448 0.85124285 0.85408418 0.83639463\n",
      " 0.82710075 0.81569878 0.77238231 0.74629711 0.72387813 0.72166007\n",
      " 0.72347485 0.71683898 0.68380628 0.69570318 0.66840812 0.67768368\n",
      " 0.66373369 0.46071638 0.44174366 0.40374322 0.3914247  0.44091876\n",
      " 0.43662927 0.51504986 0.57002493 0.51933935 0.4755646  0.48394193\n",
      " 0.4691487  0.47177005 0.488928   0.47679278 0.44936941 0.45901159\n",
      " 0.47897419 0.46177959 0.44086376 0.44933275 0.42383414 0.40564966\n",
      " 0.44702302 0.44843452 0.4552537  0.44007552 0.42869189 0.40676785\n",
      " 0.39514592 0.37412011 0.35853864 0.38975656 0.38605367 0.35589896\n",
      " 0.33883267 0.36218654 0.38744684 0.41287212 0.42973676 0.41871975\n",
      " 0.43398959 0.41853644 0.42077284 0.41736325 0.42590556 0.4503043\n",
      " 0.43133157 0.41871975 0.41666667 0.4497177  0.42891186 0.40728113\n",
      " 0.39591582 0.3844222  0.36997727 0.36282813 0.37443173 0.35738378\n",
      " 0.3513895  0.37109547 0.14668573 0.13207582 0.12712641 0.11684265\n",
      " 0.09574351 0.07766901 0.0977966  0.08100528 0.09768661 0.09843819\n",
      " 0.10602728 0.09387849 0.09243573 0.08901212 0.08444504 0.07946722\n",
      " 0.0745851  0.070117   0.0662419  0.06303478]\n",
      "9 day output [[0.0604945]]\n",
      "10 day input [0.85597228 0.85155448 0.85124285 0.85408418 0.83639463 0.82710075\n",
      " 0.81569878 0.77238231 0.74629711 0.72387813 0.72166007 0.72347485\n",
      " 0.71683898 0.68380628 0.69570318 0.66840812 0.67768368 0.66373369\n",
      " 0.46071638 0.44174366 0.40374322 0.3914247  0.44091876 0.43662927\n",
      " 0.51504986 0.57002493 0.51933935 0.4755646  0.48394193 0.4691487\n",
      " 0.47177005 0.488928   0.47679278 0.44936941 0.45901159 0.47897419\n",
      " 0.46177959 0.44086376 0.44933275 0.42383414 0.40564966 0.44702302\n",
      " 0.44843452 0.4552537  0.44007552 0.42869189 0.40676785 0.39514592\n",
      " 0.37412011 0.35853864 0.38975656 0.38605367 0.35589896 0.33883267\n",
      " 0.36218654 0.38744684 0.41287212 0.42973676 0.41871975 0.43398959\n",
      " 0.41853644 0.42077284 0.41736325 0.42590556 0.4503043  0.43133157\n",
      " 0.41871975 0.41666667 0.4497177  0.42891186 0.40728113 0.39591582\n",
      " 0.3844222  0.36997727 0.36282813 0.37443173 0.35738378 0.3513895\n",
      " 0.37109547 0.14668573 0.13207582 0.12712641 0.11684265 0.09574351\n",
      " 0.07766901 0.0977966  0.08100528 0.09768661 0.09843819 0.10602728\n",
      " 0.09387849 0.09243573 0.08901212 0.08444504 0.07946722 0.0745851\n",
      " 0.070117   0.0662419  0.06303478 0.0604945 ]\n",
      "10 day output [[0.05856843]]\n",
      "11 day input [0.85155448 0.85124285 0.85408418 0.83639463 0.82710075 0.81569878\n",
      " 0.77238231 0.74629711 0.72387813 0.72166007 0.72347485 0.71683898\n",
      " 0.68380628 0.69570318 0.66840812 0.67768368 0.66373369 0.46071638\n",
      " 0.44174366 0.40374322 0.3914247  0.44091876 0.43662927 0.51504986\n",
      " 0.57002493 0.51933935 0.4755646  0.48394193 0.4691487  0.47177005\n",
      " 0.488928   0.47679278 0.44936941 0.45901159 0.47897419 0.46177959\n",
      " 0.44086376 0.44933275 0.42383414 0.40564966 0.44702302 0.44843452\n",
      " 0.4552537  0.44007552 0.42869189 0.40676785 0.39514592 0.37412011\n",
      " 0.35853864 0.38975656 0.38605367 0.35589896 0.33883267 0.36218654\n",
      " 0.38744684 0.41287212 0.42973676 0.41871975 0.43398959 0.41853644\n",
      " 0.42077284 0.41736325 0.42590556 0.4503043  0.43133157 0.41871975\n",
      " 0.41666667 0.4497177  0.42891186 0.40728113 0.39591582 0.3844222\n",
      " 0.36997727 0.36282813 0.37443173 0.35738378 0.3513895  0.37109547\n",
      " 0.14668573 0.13207582 0.12712641 0.11684265 0.09574351 0.07766901\n",
      " 0.0977966  0.08100528 0.09768661 0.09843819 0.10602728 0.09387849\n",
      " 0.09243573 0.08901212 0.08444504 0.07946722 0.0745851  0.070117\n",
      " 0.0662419  0.06303478 0.0604945  0.05856843]\n",
      "11 day output [[0.05717371]]\n",
      "12 day input [0.85124285 0.85408418 0.83639463 0.82710075 0.81569878 0.77238231\n",
      " 0.74629711 0.72387813 0.72166007 0.72347485 0.71683898 0.68380628\n",
      " 0.69570318 0.66840812 0.67768368 0.66373369 0.46071638 0.44174366\n",
      " 0.40374322 0.3914247  0.44091876 0.43662927 0.51504986 0.57002493\n",
      " 0.51933935 0.4755646  0.48394193 0.4691487  0.47177005 0.488928\n",
      " 0.47679278 0.44936941 0.45901159 0.47897419 0.46177959 0.44086376\n",
      " 0.44933275 0.42383414 0.40564966 0.44702302 0.44843452 0.4552537\n",
      " 0.44007552 0.42869189 0.40676785 0.39514592 0.37412011 0.35853864\n",
      " 0.38975656 0.38605367 0.35589896 0.33883267 0.36218654 0.38744684\n",
      " 0.41287212 0.42973676 0.41871975 0.43398959 0.41853644 0.42077284\n",
      " 0.41736325 0.42590556 0.4503043  0.43133157 0.41871975 0.41666667\n",
      " 0.4497177  0.42891186 0.40728113 0.39591582 0.3844222  0.36997727\n",
      " 0.36282813 0.37443173 0.35738378 0.3513895  0.37109547 0.14668573\n",
      " 0.13207582 0.12712641 0.11684265 0.09574351 0.07766901 0.0977966\n",
      " 0.08100528 0.09768661 0.09843819 0.10602728 0.09387849 0.09243573\n",
      " 0.08901212 0.08444504 0.07946722 0.0745851  0.070117   0.0662419\n",
      " 0.06303478 0.0604945  0.05856843 0.05717371]\n",
      "12 day output [[0.05621498]]\n",
      "13 day input [0.85408418 0.83639463 0.82710075 0.81569878 0.77238231 0.74629711\n",
      " 0.72387813 0.72166007 0.72347485 0.71683898 0.68380628 0.69570318\n",
      " 0.66840812 0.67768368 0.66373369 0.46071638 0.44174366 0.40374322\n",
      " 0.3914247  0.44091876 0.43662927 0.51504986 0.57002493 0.51933935\n",
      " 0.4755646  0.48394193 0.4691487  0.47177005 0.488928   0.47679278\n",
      " 0.44936941 0.45901159 0.47897419 0.46177959 0.44086376 0.44933275\n",
      " 0.42383414 0.40564966 0.44702302 0.44843452 0.4552537  0.44007552\n",
      " 0.42869189 0.40676785 0.39514592 0.37412011 0.35853864 0.38975656\n",
      " 0.38605367 0.35589896 0.33883267 0.36218654 0.38744684 0.41287212\n",
      " 0.42973676 0.41871975 0.43398959 0.41853644 0.42077284 0.41736325\n",
      " 0.42590556 0.4503043  0.43133157 0.41871975 0.41666667 0.4497177\n",
      " 0.42891186 0.40728113 0.39591582 0.3844222  0.36997727 0.36282813\n",
      " 0.37443173 0.35738378 0.3513895  0.37109547 0.14668573 0.13207582\n",
      " 0.12712641 0.11684265 0.09574351 0.07766901 0.0977966  0.08100528\n",
      " 0.09768661 0.09843819 0.10602728 0.09387849 0.09243573 0.08901212\n",
      " 0.08444504 0.07946722 0.0745851  0.070117   0.0662419  0.06303478\n",
      " 0.0604945  0.05856843 0.05717371 0.05621498]\n",
      "13 day output [[0.05559679]]\n",
      "14 day input [0.83639463 0.82710075 0.81569878 0.77238231 0.74629711 0.72387813\n",
      " 0.72166007 0.72347485 0.71683898 0.68380628 0.69570318 0.66840812\n",
      " 0.67768368 0.66373369 0.46071638 0.44174366 0.40374322 0.3914247\n",
      " 0.44091876 0.43662927 0.51504986 0.57002493 0.51933935 0.4755646\n",
      " 0.48394193 0.4691487  0.47177005 0.488928   0.47679278 0.44936941\n",
      " 0.45901159 0.47897419 0.46177959 0.44086376 0.44933275 0.42383414\n",
      " 0.40564966 0.44702302 0.44843452 0.4552537  0.44007552 0.42869189\n",
      " 0.40676785 0.39514592 0.37412011 0.35853864 0.38975656 0.38605367\n",
      " 0.35589896 0.33883267 0.36218654 0.38744684 0.41287212 0.42973676\n",
      " 0.41871975 0.43398959 0.41853644 0.42077284 0.41736325 0.42590556\n",
      " 0.4503043  0.43133157 0.41871975 0.41666667 0.4497177  0.42891186\n",
      " 0.40728113 0.39591582 0.3844222  0.36997727 0.36282813 0.37443173\n",
      " 0.35738378 0.3513895  0.37109547 0.14668573 0.13207582 0.12712641\n",
      " 0.11684265 0.09574351 0.07766901 0.0977966  0.08100528 0.09768661\n",
      " 0.09843819 0.10602728 0.09387849 0.09243573 0.08901212 0.08444504\n",
      " 0.07946722 0.0745851  0.070117   0.0662419  0.06303478 0.0604945\n",
      " 0.05856843 0.05717371 0.05621498 0.05559679]\n",
      "14 day output [[0.05523193]]\n",
      "15 day input [0.82710075 0.81569878 0.77238231 0.74629711 0.72387813 0.72166007\n",
      " 0.72347485 0.71683898 0.68380628 0.69570318 0.66840812 0.67768368\n",
      " 0.66373369 0.46071638 0.44174366 0.40374322 0.3914247  0.44091876\n",
      " 0.43662927 0.51504986 0.57002493 0.51933935 0.4755646  0.48394193\n",
      " 0.4691487  0.47177005 0.488928   0.47679278 0.44936941 0.45901159\n",
      " 0.47897419 0.46177959 0.44086376 0.44933275 0.42383414 0.40564966\n",
      " 0.44702302 0.44843452 0.4552537  0.44007552 0.42869189 0.40676785\n",
      " 0.39514592 0.37412011 0.35853864 0.38975656 0.38605367 0.35589896\n",
      " 0.33883267 0.36218654 0.38744684 0.41287212 0.42973676 0.41871975\n",
      " 0.43398959 0.41853644 0.42077284 0.41736325 0.42590556 0.4503043\n",
      " 0.43133157 0.41871975 0.41666667 0.4497177  0.42891186 0.40728113\n",
      " 0.39591582 0.3844222  0.36997727 0.36282813 0.37443173 0.35738378\n",
      " 0.3513895  0.37109547 0.14668573 0.13207582 0.12712641 0.11684265\n",
      " 0.09574351 0.07766901 0.0977966  0.08100528 0.09768661 0.09843819\n",
      " 0.10602728 0.09387849 0.09243573 0.08901212 0.08444504 0.07946722\n",
      " 0.0745851  0.070117   0.0662419  0.06303478 0.0604945  0.05856843\n",
      " 0.05717371 0.05621498 0.05559679 0.05523193]\n",
      "15 day output [[0.055046]]\n",
      "16 day input [0.81569878 0.77238231 0.74629711 0.72387813 0.72166007 0.72347485\n",
      " 0.71683898 0.68380628 0.69570318 0.66840812 0.67768368 0.66373369\n",
      " 0.46071638 0.44174366 0.40374322 0.3914247  0.44091876 0.43662927\n",
      " 0.51504986 0.57002493 0.51933935 0.4755646  0.48394193 0.4691487\n",
      " 0.47177005 0.488928   0.47679278 0.44936941 0.45901159 0.47897419\n",
      " 0.46177959 0.44086376 0.44933275 0.42383414 0.40564966 0.44702302\n",
      " 0.44843452 0.4552537  0.44007552 0.42869189 0.40676785 0.39514592\n",
      " 0.37412011 0.35853864 0.38975656 0.38605367 0.35589896 0.33883267\n",
      " 0.36218654 0.38744684 0.41287212 0.42973676 0.41871975 0.43398959\n",
      " 0.41853644 0.42077284 0.41736325 0.42590556 0.4503043  0.43133157\n",
      " 0.41871975 0.41666667 0.4497177  0.42891186 0.40728113 0.39591582\n",
      " 0.3844222  0.36997727 0.36282813 0.37443173 0.35738378 0.3513895\n",
      " 0.37109547 0.14668573 0.13207582 0.12712641 0.11684265 0.09574351\n",
      " 0.07766901 0.0977966  0.08100528 0.09768661 0.09843819 0.10602728\n",
      " 0.09387849 0.09243573 0.08901212 0.08444504 0.07946722 0.0745851\n",
      " 0.070117   0.0662419  0.06303478 0.0604945  0.05856843 0.05717371\n",
      " 0.05621498 0.05559679 0.05523193 0.055046  ]\n",
      "16 day output [[0.05497934]]\n",
      "17 day input [0.77238231 0.74629711 0.72387813 0.72166007 0.72347485 0.71683898\n",
      " 0.68380628 0.69570318 0.66840812 0.67768368 0.66373369 0.46071638\n",
      " 0.44174366 0.40374322 0.3914247  0.44091876 0.43662927 0.51504986\n",
      " 0.57002493 0.51933935 0.4755646  0.48394193 0.4691487  0.47177005\n",
      " 0.488928   0.47679278 0.44936941 0.45901159 0.47897419 0.46177959\n",
      " 0.44086376 0.44933275 0.42383414 0.40564966 0.44702302 0.44843452\n",
      " 0.4552537  0.44007552 0.42869189 0.40676785 0.39514592 0.37412011\n",
      " 0.35853864 0.38975656 0.38605367 0.35589896 0.33883267 0.36218654\n",
      " 0.38744684 0.41287212 0.42973676 0.41871975 0.43398959 0.41853644\n",
      " 0.42077284 0.41736325 0.42590556 0.4503043  0.43133157 0.41871975\n",
      " 0.41666667 0.4497177  0.42891186 0.40728113 0.39591582 0.3844222\n",
      " 0.36997727 0.36282813 0.37443173 0.35738378 0.3513895  0.37109547\n",
      " 0.14668573 0.13207582 0.12712641 0.11684265 0.09574351 0.07766901\n",
      " 0.0977966  0.08100528 0.09768661 0.09843819 0.10602728 0.09387849\n",
      " 0.09243573 0.08901212 0.08444504 0.07946722 0.0745851  0.070117\n",
      " 0.0662419  0.06303478 0.0604945  0.05856843 0.05717371 0.05621498\n",
      " 0.05559679 0.05523193 0.055046   0.05497934]\n",
      "17 day output [[0.05498705]]\n",
      "18 day input [0.74629711 0.72387813 0.72166007 0.72347485 0.71683898 0.68380628\n",
      " 0.69570318 0.66840812 0.67768368 0.66373369 0.46071638 0.44174366\n",
      " 0.40374322 0.3914247  0.44091876 0.43662927 0.51504986 0.57002493\n",
      " 0.51933935 0.4755646  0.48394193 0.4691487  0.47177005 0.488928\n",
      " 0.47679278 0.44936941 0.45901159 0.47897419 0.46177959 0.44086376\n",
      " 0.44933275 0.42383414 0.40564966 0.44702302 0.44843452 0.4552537\n",
      " 0.44007552 0.42869189 0.40676785 0.39514592 0.37412011 0.35853864\n",
      " 0.38975656 0.38605367 0.35589896 0.33883267 0.36218654 0.38744684\n",
      " 0.41287212 0.42973676 0.41871975 0.43398959 0.41853644 0.42077284\n",
      " 0.41736325 0.42590556 0.4503043  0.43133157 0.41871975 0.41666667\n",
      " 0.4497177  0.42891186 0.40728113 0.39591582 0.3844222  0.36997727\n",
      " 0.36282813 0.37443173 0.35738378 0.3513895  0.37109547 0.14668573\n",
      " 0.13207582 0.12712641 0.11684265 0.09574351 0.07766901 0.0977966\n",
      " 0.08100528 0.09768661 0.09843819 0.10602728 0.09387849 0.09243573\n",
      " 0.08901212 0.08444504 0.07946722 0.0745851  0.070117   0.0662419\n",
      " 0.06303478 0.0604945  0.05856843 0.05717371 0.05621498 0.05559679\n",
      " 0.05523193 0.055046   0.05497934 0.05498705]\n",
      "18 day output [[0.05503774]]\n",
      "19 day input [0.72387813 0.72166007 0.72347485 0.71683898 0.68380628 0.69570318\n",
      " 0.66840812 0.67768368 0.66373369 0.46071638 0.44174366 0.40374322\n",
      " 0.3914247  0.44091876 0.43662927 0.51504986 0.57002493 0.51933935\n",
      " 0.4755646  0.48394193 0.4691487  0.47177005 0.488928   0.47679278\n",
      " 0.44936941 0.45901159 0.47897419 0.46177959 0.44086376 0.44933275\n",
      " 0.42383414 0.40564966 0.44702302 0.44843452 0.4552537  0.44007552\n",
      " 0.42869189 0.40676785 0.39514592 0.37412011 0.35853864 0.38975656\n",
      " 0.38605367 0.35589896 0.33883267 0.36218654 0.38744684 0.41287212\n",
      " 0.42973676 0.41871975 0.43398959 0.41853644 0.42077284 0.41736325\n",
      " 0.42590556 0.4503043  0.43133157 0.41871975 0.41666667 0.4497177\n",
      " 0.42891186 0.40728113 0.39591582 0.3844222  0.36997727 0.36282813\n",
      " 0.37443173 0.35738378 0.3513895  0.37109547 0.14668573 0.13207582\n",
      " 0.12712641 0.11684265 0.09574351 0.07766901 0.0977966  0.08100528\n",
      " 0.09768661 0.09843819 0.10602728 0.09387849 0.09243573 0.08901212\n",
      " 0.08444504 0.07946722 0.0745851  0.070117   0.0662419  0.06303478\n",
      " 0.0604945  0.05856843 0.05717371 0.05621498 0.05559679 0.05523193\n",
      " 0.055046   0.05497934 0.05498705 0.05503774]\n",
      "19 day output [[0.0551115]]\n",
      "20 day input [0.72166007 0.72347485 0.71683898 0.68380628 0.69570318 0.66840812\n",
      " 0.67768368 0.66373369 0.46071638 0.44174366 0.40374322 0.3914247\n",
      " 0.44091876 0.43662927 0.51504986 0.57002493 0.51933935 0.4755646\n",
      " 0.48394193 0.4691487  0.47177005 0.488928   0.47679278 0.44936941\n",
      " 0.45901159 0.47897419 0.46177959 0.44086376 0.44933275 0.42383414\n",
      " 0.40564966 0.44702302 0.44843452 0.4552537  0.44007552 0.42869189\n",
      " 0.40676785 0.39514592 0.37412011 0.35853864 0.38975656 0.38605367\n",
      " 0.35589896 0.33883267 0.36218654 0.38744684 0.41287212 0.42973676\n",
      " 0.41871975 0.43398959 0.41853644 0.42077284 0.41736325 0.42590556\n",
      " 0.4503043  0.43133157 0.41871975 0.41666667 0.4497177  0.42891186\n",
      " 0.40728113 0.39591582 0.3844222  0.36997727 0.36282813 0.37443173\n",
      " 0.35738378 0.3513895  0.37109547 0.14668573 0.13207582 0.12712641\n",
      " 0.11684265 0.09574351 0.07766901 0.0977966  0.08100528 0.09768661\n",
      " 0.09843819 0.10602728 0.09387849 0.09243573 0.08901212 0.08444504\n",
      " 0.07946722 0.0745851  0.070117   0.0662419  0.06303478 0.0604945\n",
      " 0.05856843 0.05717371 0.05621498 0.05559679 0.05523193 0.055046\n",
      " 0.05497934 0.05498705 0.05503774 0.0551115 ]\n",
      "20 day output [[0.05519777]]\n",
      "21 day input [0.72347485 0.71683898 0.68380628 0.69570318 0.66840812 0.67768368\n",
      " 0.66373369 0.46071638 0.44174366 0.40374322 0.3914247  0.44091876\n",
      " 0.43662927 0.51504986 0.57002493 0.51933935 0.4755646  0.48394193\n",
      " 0.4691487  0.47177005 0.488928   0.47679278 0.44936941 0.45901159\n",
      " 0.47897419 0.46177959 0.44086376 0.44933275 0.42383414 0.40564966\n",
      " 0.44702302 0.44843452 0.4552537  0.44007552 0.42869189 0.40676785\n",
      " 0.39514592 0.37412011 0.35853864 0.38975656 0.38605367 0.35589896\n",
      " 0.33883267 0.36218654 0.38744684 0.41287212 0.42973676 0.41871975\n",
      " 0.43398959 0.41853644 0.42077284 0.41736325 0.42590556 0.4503043\n",
      " 0.43133157 0.41871975 0.41666667 0.4497177  0.42891186 0.40728113\n",
      " 0.39591582 0.3844222  0.36997727 0.36282813 0.37443173 0.35738378\n",
      " 0.3513895  0.37109547 0.14668573 0.13207582 0.12712641 0.11684265\n",
      " 0.09574351 0.07766901 0.0977966  0.08100528 0.09768661 0.09843819\n",
      " 0.10602728 0.09387849 0.09243573 0.08901212 0.08444504 0.07946722\n",
      " 0.0745851  0.070117   0.0662419  0.06303478 0.0604945  0.05856843\n",
      " 0.05717371 0.05621498 0.05559679 0.05523193 0.055046   0.05497934\n",
      " 0.05498705 0.05503774 0.0551115  0.05519777]\n",
      "21 day output [[0.05529283]]\n",
      "22 day input [0.71683898 0.68380628 0.69570318 0.66840812 0.67768368 0.66373369\n",
      " 0.46071638 0.44174366 0.40374322 0.3914247  0.44091876 0.43662927\n",
      " 0.51504986 0.57002493 0.51933935 0.4755646  0.48394193 0.4691487\n",
      " 0.47177005 0.488928   0.47679278 0.44936941 0.45901159 0.47897419\n",
      " 0.46177959 0.44086376 0.44933275 0.42383414 0.40564966 0.44702302\n",
      " 0.44843452 0.4552537  0.44007552 0.42869189 0.40676785 0.39514592\n",
      " 0.37412011 0.35853864 0.38975656 0.38605367 0.35589896 0.33883267\n",
      " 0.36218654 0.38744684 0.41287212 0.42973676 0.41871975 0.43398959\n",
      " 0.41853644 0.42077284 0.41736325 0.42590556 0.4503043  0.43133157\n",
      " 0.41871975 0.41666667 0.4497177  0.42891186 0.40728113 0.39591582\n",
      " 0.3844222  0.36997727 0.36282813 0.37443173 0.35738378 0.3513895\n",
      " 0.37109547 0.14668573 0.13207582 0.12712641 0.11684265 0.09574351\n",
      " 0.07766901 0.0977966  0.08100528 0.09768661 0.09843819 0.10602728\n",
      " 0.09387849 0.09243573 0.08901212 0.08444504 0.07946722 0.0745851\n",
      " 0.070117   0.0662419  0.06303478 0.0604945  0.05856843 0.05717371\n",
      " 0.05621498 0.05559679 0.05523193 0.055046   0.05497934 0.05498705\n",
      " 0.05503774 0.0551115  0.05519777 0.05529283]\n",
      "22 day output [[0.05539754]]\n",
      "23 day input [0.68380628 0.69570318 0.66840812 0.67768368 0.66373369 0.46071638\n",
      " 0.44174366 0.40374322 0.3914247  0.44091876 0.43662927 0.51504986\n",
      " 0.57002493 0.51933935 0.4755646  0.48394193 0.4691487  0.47177005\n",
      " 0.488928   0.47679278 0.44936941 0.45901159 0.47897419 0.46177959\n",
      " 0.44086376 0.44933275 0.42383414 0.40564966 0.44702302 0.44843452\n",
      " 0.4552537  0.44007552 0.42869189 0.40676785 0.39514592 0.37412011\n",
      " 0.35853864 0.38975656 0.38605367 0.35589896 0.33883267 0.36218654\n",
      " 0.38744684 0.41287212 0.42973676 0.41871975 0.43398959 0.41853644\n",
      " 0.42077284 0.41736325 0.42590556 0.4503043  0.43133157 0.41871975\n",
      " 0.41666667 0.4497177  0.42891186 0.40728113 0.39591582 0.3844222\n",
      " 0.36997727 0.36282813 0.37443173 0.35738378 0.3513895  0.37109547\n",
      " 0.14668573 0.13207582 0.12712641 0.11684265 0.09574351 0.07766901\n",
      " 0.0977966  0.08100528 0.09768661 0.09843819 0.10602728 0.09387849\n",
      " 0.09243573 0.08901212 0.08444504 0.07946722 0.0745851  0.070117\n",
      " 0.0662419  0.06303478 0.0604945  0.05856843 0.05717371 0.05621498\n",
      " 0.05559679 0.05523193 0.055046   0.05497934 0.05498705 0.05503774\n",
      " 0.0551115  0.05519777 0.05529283 0.05539754]\n",
      "23 day output [[0.05551546]]\n",
      "24 day input [0.69570318 0.66840812 0.67768368 0.66373369 0.46071638 0.44174366\n",
      " 0.40374322 0.3914247  0.44091876 0.43662927 0.51504986 0.57002493\n",
      " 0.51933935 0.4755646  0.48394193 0.4691487  0.47177005 0.488928\n",
      " 0.47679278 0.44936941 0.45901159 0.47897419 0.46177959 0.44086376\n",
      " 0.44933275 0.42383414 0.40564966 0.44702302 0.44843452 0.4552537\n",
      " 0.44007552 0.42869189 0.40676785 0.39514592 0.37412011 0.35853864\n",
      " 0.38975656 0.38605367 0.35589896 0.33883267 0.36218654 0.38744684\n",
      " 0.41287212 0.42973676 0.41871975 0.43398959 0.41853644 0.42077284\n",
      " 0.41736325 0.42590556 0.4503043  0.43133157 0.41871975 0.41666667\n",
      " 0.4497177  0.42891186 0.40728113 0.39591582 0.3844222  0.36997727\n",
      " 0.36282813 0.37443173 0.35738378 0.3513895  0.37109547 0.14668573\n",
      " 0.13207582 0.12712641 0.11684265 0.09574351 0.07766901 0.0977966\n",
      " 0.08100528 0.09768661 0.09843819 0.10602728 0.09387849 0.09243573\n",
      " 0.08901212 0.08444504 0.07946722 0.0745851  0.070117   0.0662419\n",
      " 0.06303478 0.0604945  0.05856843 0.05717371 0.05621498 0.05559679\n",
      " 0.05523193 0.055046   0.05497934 0.05498705 0.05503774 0.0551115\n",
      " 0.05519777 0.05529283 0.05539754 0.05551546]\n",
      "24 day output [[0.0556512]]\n",
      "25 day input [0.66840812 0.67768368 0.66373369 0.46071638 0.44174366 0.40374322\n",
      " 0.3914247  0.44091876 0.43662927 0.51504986 0.57002493 0.51933935\n",
      " 0.4755646  0.48394193 0.4691487  0.47177005 0.488928   0.47679278\n",
      " 0.44936941 0.45901159 0.47897419 0.46177959 0.44086376 0.44933275\n",
      " 0.42383414 0.40564966 0.44702302 0.44843452 0.4552537  0.44007552\n",
      " 0.42869189 0.40676785 0.39514592 0.37412011 0.35853864 0.38975656\n",
      " 0.38605367 0.35589896 0.33883267 0.36218654 0.38744684 0.41287212\n",
      " 0.42973676 0.41871975 0.43398959 0.41853644 0.42077284 0.41736325\n",
      " 0.42590556 0.4503043  0.43133157 0.41871975 0.41666667 0.4497177\n",
      " 0.42891186 0.40728113 0.39591582 0.3844222  0.36997727 0.36282813\n",
      " 0.37443173 0.35738378 0.3513895  0.37109547 0.14668573 0.13207582\n",
      " 0.12712641 0.11684265 0.09574351 0.07766901 0.0977966  0.08100528\n",
      " 0.09768661 0.09843819 0.10602728 0.09387849 0.09243573 0.08901212\n",
      " 0.08444504 0.07946722 0.0745851  0.070117   0.0662419  0.06303478\n",
      " 0.0604945  0.05856843 0.05717371 0.05621498 0.05559679 0.05523193\n",
      " 0.055046   0.05497934 0.05498705 0.05503774 0.0551115  0.05519777\n",
      " 0.05529283 0.05539754 0.05551546 0.0556512 ]\n",
      "25 day output [[0.05580921]]\n",
      "26 day input [0.67768368 0.66373369 0.46071638 0.44174366 0.40374322 0.3914247\n",
      " 0.44091876 0.43662927 0.51504986 0.57002493 0.51933935 0.4755646\n",
      " 0.48394193 0.4691487  0.47177005 0.488928   0.47679278 0.44936941\n",
      " 0.45901159 0.47897419 0.46177959 0.44086376 0.44933275 0.42383414\n",
      " 0.40564966 0.44702302 0.44843452 0.4552537  0.44007552 0.42869189\n",
      " 0.40676785 0.39514592 0.37412011 0.35853864 0.38975656 0.38605367\n",
      " 0.35589896 0.33883267 0.36218654 0.38744684 0.41287212 0.42973676\n",
      " 0.41871975 0.43398959 0.41853644 0.42077284 0.41736325 0.42590556\n",
      " 0.4503043  0.43133157 0.41871975 0.41666667 0.4497177  0.42891186\n",
      " 0.40728113 0.39591582 0.3844222  0.36997727 0.36282813 0.37443173\n",
      " 0.35738378 0.3513895  0.37109547 0.14668573 0.13207582 0.12712641\n",
      " 0.11684265 0.09574351 0.07766901 0.0977966  0.08100528 0.09768661\n",
      " 0.09843819 0.10602728 0.09387849 0.09243573 0.08901212 0.08444504\n",
      " 0.07946722 0.0745851  0.070117   0.0662419  0.06303478 0.0604945\n",
      " 0.05856843 0.05717371 0.05621498 0.05559679 0.05523193 0.055046\n",
      " 0.05497934 0.05498705 0.05503774 0.0551115  0.05519777 0.05529283\n",
      " 0.05539754 0.05551546 0.0556512  0.05580921]\n",
      "26 day output [[0.0559931]]\n",
      "27 day input [0.66373369 0.46071638 0.44174366 0.40374322 0.3914247  0.44091876\n",
      " 0.43662927 0.51504986 0.57002493 0.51933935 0.4755646  0.48394193\n",
      " 0.4691487  0.47177005 0.488928   0.47679278 0.44936941 0.45901159\n",
      " 0.47897419 0.46177959 0.44086376 0.44933275 0.42383414 0.40564966\n",
      " 0.44702302 0.44843452 0.4552537  0.44007552 0.42869189 0.40676785\n",
      " 0.39514592 0.37412011 0.35853864 0.38975656 0.38605367 0.35589896\n",
      " 0.33883267 0.36218654 0.38744684 0.41287212 0.42973676 0.41871975\n",
      " 0.43398959 0.41853644 0.42077284 0.41736325 0.42590556 0.4503043\n",
      " 0.43133157 0.41871975 0.41666667 0.4497177  0.42891186 0.40728113\n",
      " 0.39591582 0.3844222  0.36997727 0.36282813 0.37443173 0.35738378\n",
      " 0.3513895  0.37109547 0.14668573 0.13207582 0.12712641 0.11684265\n",
      " 0.09574351 0.07766901 0.0977966  0.08100528 0.09768661 0.09843819\n",
      " 0.10602728 0.09387849 0.09243573 0.08901212 0.08444504 0.07946722\n",
      " 0.0745851  0.070117   0.0662419  0.06303478 0.0604945  0.05856843\n",
      " 0.05717371 0.05621498 0.05559679 0.05523193 0.055046   0.05497934\n",
      " 0.05498705 0.05503774 0.0551115  0.05519777 0.05529283 0.05539754\n",
      " 0.05551546 0.0556512  0.05580921 0.0559931 ]\n",
      "27 day output [[0.05620514]]\n",
      "28 day input [0.46071638 0.44174366 0.40374322 0.3914247  0.44091876 0.43662927\n",
      " 0.51504986 0.57002493 0.51933935 0.4755646  0.48394193 0.4691487\n",
      " 0.47177005 0.488928   0.47679278 0.44936941 0.45901159 0.47897419\n",
      " 0.46177959 0.44086376 0.44933275 0.42383414 0.40564966 0.44702302\n",
      " 0.44843452 0.4552537  0.44007552 0.42869189 0.40676785 0.39514592\n",
      " 0.37412011 0.35853864 0.38975656 0.38605367 0.35589896 0.33883267\n",
      " 0.36218654 0.38744684 0.41287212 0.42973676 0.41871975 0.43398959\n",
      " 0.41853644 0.42077284 0.41736325 0.42590556 0.4503043  0.43133157\n",
      " 0.41871975 0.41666667 0.4497177  0.42891186 0.40728113 0.39591582\n",
      " 0.3844222  0.36997727 0.36282813 0.37443173 0.35738378 0.3513895\n",
      " 0.37109547 0.14668573 0.13207582 0.12712641 0.11684265 0.09574351\n",
      " 0.07766901 0.0977966  0.08100528 0.09768661 0.09843819 0.10602728\n",
      " 0.09387849 0.09243573 0.08901212 0.08444504 0.07946722 0.0745851\n",
      " 0.070117   0.0662419  0.06303478 0.0604945  0.05856843 0.05717371\n",
      " 0.05621498 0.05559679 0.05523193 0.055046   0.05497934 0.05498705\n",
      " 0.05503774 0.0551115  0.05519777 0.05529283 0.05539754 0.05551546\n",
      " 0.0556512  0.05580921 0.0559931  0.05620514]\n",
      "28 day output [[0.05644612]]\n",
      "29 day input [0.44174366 0.40374322 0.3914247  0.44091876 0.43662927 0.51504986\n",
      " 0.57002493 0.51933935 0.4755646  0.48394193 0.4691487  0.47177005\n",
      " 0.488928   0.47679278 0.44936941 0.45901159 0.47897419 0.46177959\n",
      " 0.44086376 0.44933275 0.42383414 0.40564966 0.44702302 0.44843452\n",
      " 0.4552537  0.44007552 0.42869189 0.40676785 0.39514592 0.37412011\n",
      " 0.35853864 0.38975656 0.38605367 0.35589896 0.33883267 0.36218654\n",
      " 0.38744684 0.41287212 0.42973676 0.41871975 0.43398959 0.41853644\n",
      " 0.42077284 0.41736325 0.42590556 0.4503043  0.43133157 0.41871975\n",
      " 0.41666667 0.4497177  0.42891186 0.40728113 0.39591582 0.3844222\n",
      " 0.36997727 0.36282813 0.37443173 0.35738378 0.3513895  0.37109547\n",
      " 0.14668573 0.13207582 0.12712641 0.11684265 0.09574351 0.07766901\n",
      " 0.0977966  0.08100528 0.09768661 0.09843819 0.10602728 0.09387849\n",
      " 0.09243573 0.08901212 0.08444504 0.07946722 0.0745851  0.070117\n",
      " 0.0662419  0.06303478 0.0604945  0.05856843 0.05717371 0.05621498\n",
      " 0.05559679 0.05523193 0.055046   0.05497934 0.05498705 0.05503774\n",
      " 0.0551115  0.05519777 0.05529283 0.05539754 0.05551546 0.0556512\n",
      " 0.05580921 0.0559931  0.05620514 0.05644612]\n",
      "29 day output [[0.05671549]]\n",
      "[[0.09387848526239395], [0.09243573248386383], [0.08901212364435196], [0.0844450443983078], [0.07946722209453583], [0.07458509504795074], [0.07011700421571732], [0.06624189764261246], [0.0630347803235054], [0.06049450486898422], [0.058568425476551056], [0.0571737140417099], [0.05621498450636864], [0.055596787482500076], [0.05523192882537842], [0.055045995861291885], [0.054979342967271805], [0.05498705059289932], [0.055037736892700195], [0.05511149764060974], [0.05519776791334152], [0.05529282987117767], [0.05539753660559654], [0.05551546439528465], [0.05565119534730911], [0.05580921471118927], [0.05599310249090195], [0.0562051422894001], [0.056446123868227005], [0.05671548843383789]]\n"
     ]
    }
   ],
   "source": [
    "#predict the future 30 days\n",
    "lst_output=[]\n",
    "n_steps=100\n",
    "i=0\n",
    "while(i<30):\n",
    "    \n",
    "    if(len(temp_input)>100):\n",
    "        #print(temp_input)\n",
    "        x_input=np.array(temp_input[1:])\n",
    "        print(\"{} day input {}\".format(i,x_input))\n",
    "        x_input=x_input.reshape(1,-1)\n",
    "        x_input = x_input.reshape((1, n_steps, 1))\n",
    "        #print(x_input)\n",
    "        yhat = model.predict(x_input, verbose=0)\n",
    "        print(\"{} day output {}\".format(i,yhat))\n",
    "        temp_input.extend(yhat[0].tolist())\n",
    "        temp_input=temp_input[1:]\n",
    "        #print(temp_input)\n",
    "        lst_output.extend(yhat.tolist())\n",
    "        i=i+1\n",
    "    else:\n",
    "        x_input = x_input.reshape((1, n_steps,1))\n",
    "        yhat = model.predict(x_input, verbose=0)\n",
    "        print(yhat[0])\n",
    "        temp_input.extend(yhat[0].tolist())\n",
    "        print(len(temp_input))\n",
    "        lst_output.extend(yhat.tolist())\n",
    "        i=i+1\n",
    "    \n",
    "\n",
    "print(lst_output)"
   ]
  },
  {
   "cell_type": "code",
   "execution_count": 40,
   "metadata": {},
   "outputs": [],
   "source": [
    "day_new=np.arange(1,101)#previous 100 day\n",
    "day_pred=np.arange(101,131)# future 30 day"
   ]
  },
  {
   "cell_type": "code",
   "execution_count": 41,
   "metadata": {},
   "outputs": [
    {
     "data": {
      "text/plain": [
       "1259"
      ]
     },
     "execution_count": 41,
     "metadata": {},
     "output_type": "execute_result"
    }
   ],
   "source": [
    "len(df1)"
   ]
  },
  {
   "cell_type": "code",
   "execution_count": 42,
   "metadata": {},
   "outputs": [],
   "source": [
    "df2 = df1.tolist()\n",
    "df2.extend(lst_output)"
   ]
  },
  {
   "cell_type": "code",
   "execution_count": 44,
   "metadata": {},
   "outputs": [
    {
     "data": {
      "text/plain": [
       "[<matplotlib.lines.Line2D at 0x149dd8a9d80>]"
      ]
     },
     "execution_count": 44,
     "metadata": {},
     "output_type": "execute_result"
    },
    {
     "data": {
      "image/png": "[encoded data removed]",
      "text/plain": [
       "<Figure size 432x288 with 1 Axes>"
      ]
     },
     "metadata": {
      "needs_background": "light"
     },
     "output_type": "display_data"
    }
   ],
   "source": [
    "plt.plot(day_new,scaler.inverse_transform(df1[1159:]))\n",
    "plt.plot(day_pred,scaler.inverse_transform(lst_output))"
   ]
  },
  {
   "cell_type": "code",
   "execution_count": 45,
   "metadata": {},
   "outputs": [
    {
     "data": {
      "text/plain": [
       "[<matplotlib.lines.Line2D at 0x149dd9000a0>]"
      ]
     },
     "execution_count": 45,
     "metadata": {},
     "output_type": "execute_result"
    },
    {
     "data": {
      "image/png": "[encoded data removed]",
      "text/plain": [
       "<Figure size 432x288 with 1 Axes>"
      ]
     },
     "metadata": {
      "needs_background": "light"
     },
     "output_type": "display_data"
    }
   ],
   "source": [
    "df2 = df1.tolist()\n",
    "df2.extend(lst_output)\n",
    "plt.plot(df2[1000:])"
   ]
  },
  {
   "cell_type": "code",
   "execution_count": 46,
   "metadata": {},
   "outputs": [],
   "source": [
    "df2 = scaler.inverse_transform(df2).tolist()"
   ]
  },
  {
   "cell_type": "code",
   "execution_count": 48,
   "metadata": {},
   "outputs": [
    {
     "data": {
      "text/plain": [
       "1289"
      ]
     },
     "execution_count": 48,
     "metadata": {},
     "output_type": "execute_result"
    }
   ],
   "source": [
    "len(df2)"
   ]
  },
  {
   "cell_type": "code",
   "execution_count": null,
   "metadata": {},
   "outputs": [],
   "source": []
  }
 ],
 "metadata": {
  "interpreter": {
   "hash": "b540606f8301f2cebb0f3d41fdd35073b3592f9ec69752e5120904b61eb3e411"
  },
  "kernelspec": {
   "display_name": "Python 3.10.4 64-bit",
   "language": "python",
   "name": "python3"
  },
  "language_info": {
   "codemirror_mode": {
    "name": "ipython",
    "version": 3
   },
   "file_extension": ".py",
   "mimetype": "text/x-python",
   "name": "python",
   "nbconvert_exporter": "python",
   "pygments_lexer": "ipython3",
   "version": "3.10.4"
  },
  "orig_nbformat": 4
 },
 "nbformat": 4,
 "nbformat_minor": 2
}
