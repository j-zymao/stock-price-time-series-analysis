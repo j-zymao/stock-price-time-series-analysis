{
 "cells": [
  {
   "cell_type": "markdown",
   "metadata": {},
   "source": [
    "## Time Series EDA"
   ]
  },
  {
   "cell_type": "code",
   "execution_count": 65,
   "metadata": {},
   "outputs": [],
   "source": [
    "import pandas as pd\n",
    "import numpy as np\n",
    "from datetime import datetime\n",
    "import matplotlib.pyplot as plt"
   ]
  },
  {
   "cell_type": "code",
   "execution_count": 57,
   "metadata": {},
   "outputs": [],
   "source": [
    "ACB = pd.read_csv('ACB.csv')\n",
    "APHA = pd.read_csv('APHA.csv')\n",
    "CGC = pd.read_csv('CGC.csv')\n",
    "CRON = pd.read_csv('CRON.csv')\n",
    "CURLF = pd.read_csv('CURLF.csv')\n",
    "GTBIF = pd.read_csv('GTBIF.csv')\n",
    "GWPH = pd.read_csv('GWPH.csv')\n",
    "HRVSF = pd.read_csv('HRVSF.csv')\n",
    "TCNNF = pd.read_csv('TCNNF.csv')\n",
    "TLRY = pd.read_csv('TLRY.csv')\n"
   ]
  },
  {
   "cell_type": "code",
   "execution_count": 58,
   "metadata": {},
   "outputs": [],
   "source": [
    "def date_index(df):\n",
    "    df['Date'] = pd.to_datetime(df['Date'])\n",
    "    df.set_index('Date', inplace = True)\n",
    "    return df\n"
   ]
  },
  {
   "cell_type": "code",
   "execution_count": 59,
   "metadata": {},
   "outputs": [
    {
     "data": {
      "text/html": [
       "<div>\n",
       "<style scoped>\n",
       "    .dataframe tbody tr th:only-of-type {\n",
       "        vertical-align: middle;\n",
       "    }\n",
       "\n",
       "    .dataframe tbody tr th {\n",
       "        vertical-align: top;\n",
       "    }\n",
       "\n",
       "    .dataframe thead th {\n",
       "        text-align: right;\n",
       "    }\n",
       "</style>\n",
       "<table border=\"1\" class=\"dataframe\">\n",
       "  <thead>\n",
       "    <tr style=\"text-align: right;\">\n",
       "      <th></th>\n",
       "      <th>Open</th>\n",
       "      <th>High</th>\n",
       "      <th>Low</th>\n",
       "      <th>Close</th>\n",
       "      <th>Adj Close</th>\n",
       "      <th>Volume</th>\n",
       "    </tr>\n",
       "    <tr>\n",
       "      <th>Date</th>\n",
       "      <th></th>\n",
       "      <th></th>\n",
       "      <th></th>\n",
       "      <th></th>\n",
       "      <th></th>\n",
       "      <th></th>\n",
       "    </tr>\n",
       "  </thead>\n",
       "  <tbody>\n",
       "    <tr>\n",
       "      <th>2014-07-15</th>\n",
       "      <td>7.860</td>\n",
       "      <td>8.424</td>\n",
       "      <td>7.212</td>\n",
       "      <td>7.212</td>\n",
       "      <td>7.212</td>\n",
       "      <td>16000</td>\n",
       "    </tr>\n",
       "    <tr>\n",
       "      <th>2014-07-16</th>\n",
       "      <td>7.092</td>\n",
       "      <td>7.668</td>\n",
       "      <td>7.092</td>\n",
       "      <td>7.668</td>\n",
       "      <td>7.668</td>\n",
       "      <td>100</td>\n",
       "    </tr>\n",
       "    <tr>\n",
       "      <th>2014-07-17</th>\n",
       "      <td>7.668</td>\n",
       "      <td>7.668</td>\n",
       "      <td>7.668</td>\n",
       "      <td>7.668</td>\n",
       "      <td>7.668</td>\n",
       "      <td>0</td>\n",
       "    </tr>\n",
       "    <tr>\n",
       "      <th>2014-07-18</th>\n",
       "      <td>7.668</td>\n",
       "      <td>7.668</td>\n",
       "      <td>7.668</td>\n",
       "      <td>7.668</td>\n",
       "      <td>7.668</td>\n",
       "      <td>0</td>\n",
       "    </tr>\n",
       "    <tr>\n",
       "      <th>2014-07-21</th>\n",
       "      <td>7.104</td>\n",
       "      <td>7.104</td>\n",
       "      <td>7.104</td>\n",
       "      <td>7.104</td>\n",
       "      <td>7.104</td>\n",
       "      <td>200</td>\n",
       "    </tr>\n",
       "    <tr>\n",
       "      <th>...</th>\n",
       "      <td>...</td>\n",
       "      <td>...</td>\n",
       "      <td>...</td>\n",
       "      <td>...</td>\n",
       "      <td>...</td>\n",
       "      <td>...</td>\n",
       "    </tr>\n",
       "    <tr>\n",
       "      <th>2020-10-15</th>\n",
       "      <td>4.460</td>\n",
       "      <td>4.500</td>\n",
       "      <td>4.280</td>\n",
       "      <td>4.290</td>\n",
       "      <td>4.290</td>\n",
       "      <td>11157700</td>\n",
       "    </tr>\n",
       "    <tr>\n",
       "      <th>2020-10-16</th>\n",
       "      <td>4.370</td>\n",
       "      <td>4.370</td>\n",
       "      <td>4.000</td>\n",
       "      <td>4.020</td>\n",
       "      <td>4.020</td>\n",
       "      <td>19906200</td>\n",
       "    </tr>\n",
       "    <tr>\n",
       "      <th>2020-10-19</th>\n",
       "      <td>4.070</td>\n",
       "      <td>4.710</td>\n",
       "      <td>3.930</td>\n",
       "      <td>4.710</td>\n",
       "      <td>4.710</td>\n",
       "      <td>25062600</td>\n",
       "    </tr>\n",
       "    <tr>\n",
       "      <th>2020-10-20</th>\n",
       "      <td>4.590</td>\n",
       "      <td>4.670</td>\n",
       "      <td>4.200</td>\n",
       "      <td>4.560</td>\n",
       "      <td>4.560</td>\n",
       "      <td>13816600</td>\n",
       "    </tr>\n",
       "    <tr>\n",
       "      <th>2020-10-21</th>\n",
       "      <td>4.610</td>\n",
       "      <td>4.950</td>\n",
       "      <td>4.560</td>\n",
       "      <td>4.850</td>\n",
       "      <td>4.850</td>\n",
       "      <td>13736900</td>\n",
       "    </tr>\n",
       "  </tbody>\n",
       "</table>\n",
       "<p>1581 rows × 6 columns</p>\n",
       "</div>"
      ],
      "text/plain": [
       "             Open   High    Low  Close  Adj Close    Volume\n",
       "Date                                                       \n",
       "2014-07-15  7.860  8.424  7.212  7.212      7.212     16000\n",
       "2014-07-16  7.092  7.668  7.092  7.668      7.668       100\n",
       "2014-07-17  7.668  7.668  7.668  7.668      7.668         0\n",
       "2014-07-18  7.668  7.668  7.668  7.668      7.668         0\n",
       "2014-07-21  7.104  7.104  7.104  7.104      7.104       200\n",
       "...           ...    ...    ...    ...        ...       ...\n",
       "2020-10-15  4.460  4.500  4.280  4.290      4.290  11157700\n",
       "2020-10-16  4.370  4.370  4.000  4.020      4.020  19906200\n",
       "2020-10-19  4.070  4.710  3.930  4.710      4.710  25062600\n",
       "2020-10-20  4.590  4.670  4.200  4.560      4.560  13816600\n",
       "2020-10-21  4.610  4.950  4.560  4.850      4.850  13736900\n",
       "\n",
       "[1581 rows x 6 columns]"
      ]
     },
     "execution_count": 59,
     "metadata": {},
     "output_type": "execute_result"
    }
   ],
   "source": [
    "ACB = date_index(ACB)\n",
    "ACB"
   ]
  },
  {
   "cell_type": "code",
   "execution_count": 64,
   "metadata": {},
   "outputs": [
    {
     "data": {
      "text/plain": [
       "Open         0\n",
       "High         0\n",
       "Low          0\n",
       "Close        0\n",
       "Adj Close    0\n",
       "Volume       0\n",
       "dtype: int64"
      ]
     },
     "execution_count": 64,
     "metadata": {},
     "output_type": "execute_result"
    }
   ],
   "source": [
    "ACB.isna().sum()"
   ]
  },
  {
   "cell_type": "code",
   "execution_count": 61,
   "metadata": {},
   "outputs": [
    {
     "data": {
      "text/plain": [
       "<AxesSubplot:xlabel='Date'>"
      ]
     },
     "execution_count": 61,
     "metadata": {},
     "output_type": "execute_result"
    },
    {
     "data": {
      "image/png": "[encoded data removed]",
      "text/plain": [
       "<Figure size 864x288 with 1 Axes>"
      ]
     },
     "metadata": {
      "needs_background": "light"
     },
     "output_type": "display_data"
    }
   ],
   "source": [
    "ACB['High'].plot(figsize = (12,4))"
   ]
  },
  {
   "cell_type": "code",
   "execution_count": null,
   "metadata": {},
   "outputs": [],
   "source": []
  }
 ],
 "metadata": {
  "interpreter": {
   "hash": "b540606f8301f2cebb0f3d41fdd35073b3592f9ec69752e5120904b61eb3e411"
  },
  "kernelspec": {
   "display_name": "Python 3.10.4 64-bit",
   "language": "python",
   "name": "python3"
  },
  "language_info": {
   "codemirror_mode": {
    "name": "ipython",
    "version": 3
   },
   "file_extension": ".py",
   "mimetype": "text/x-python",
   "name": "python",
   "nbconvert_exporter": "python",
   "pygments_lexer": "ipython3",
   "version": "3.10.4"
  },
  "orig_nbformat": 4
 },
 "nbformat": 4,
 "nbformat_minor": 2
}
